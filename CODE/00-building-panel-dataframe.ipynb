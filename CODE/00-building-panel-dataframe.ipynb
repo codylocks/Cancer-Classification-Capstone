{
 "cells": [
  {
   "cell_type": "markdown",
   "metadata": {},
   "source": [
    "# Findings:\n",
    "1. Metadata_df \n",
    "    - Length: 1706 rows. \n",
    "    - Each row corresponds to a diagnostic slide.\n",
    "    - Based on case ID there are many slide immages per case, as many as 17\n",
    "2. Clinical_df  \n",
    "    - Length : 882 rows.\n",
    "    - Each row appears to corespond to a case.  \n",
    "    - Row 827 has no information provided (file_id: 97ffa63a-a2a0-4241-a088-5c8820aed0c3)\n",
    "    - Row 410 is missing the \"days_to_birth\" field\n",
    "3. Combination Notes:\n",
    "    - Case ID associated with row 827 which was dropped is not there, therefore a row gets dropped when joining dataframes.  \n",
    "4. Final Takeaways:\n",
    "    - Columns with little to no information: (dropping these)\n",
    "        - annotations\n",
    "        - exposures_alcohol_intensity\n",
    "        - exposures_created_datetime\n",
    "        - exposures_bmi\n",
    "        - exposures_height\n",
    "        - exposures_weight\n",
    "        - exposures_cigarettes_per_day\n",
    "        - exposures_years_smoked\n",
    "        - diagnoses_days_to_recurrence\n",
    "        - diagnoses_created_datetime\n",
    "        - diagnoses_days_to_last_known_disease_status\n",
    "        - demographic_created_datetime\n",
    "        - demographic_year_of_death\n",
    "    - If we are going to do JUST image classification we want a dataframe with the following columns:\n",
    "        - case_id\n",
    "        - file_id\n",
    "        - diagnoses_primary_diagnosis"
   ]
  },
  {
   "cell_type": "markdown",
   "metadata": {},
   "source": [
    "# Imports:"
   ]
  },
  {
   "cell_type": "code",
   "execution_count": 50,
   "metadata": {},
   "outputs": [],
   "source": [
    "import pandas as pd\n",
    "import numpy as np\n",
    "import seaborn as sns\n",
    "import matplotlib.pyplot as plt"
   ]
  },
  {
   "cell_type": "markdown",
   "metadata": {},
   "source": [
    "# EDA Inital"
   ]
  },
  {
   "cell_type": "code",
   "execution_count": 3,
   "metadata": {},
   "outputs": [],
   "source": [
    "clinical_eda = pd.read_json('./clinical.cart.2020-05-20.json')\n",
    "metadata_eda = pd.read_json('./metadata.cart.2020-05-20.json')"
   ]
  },
  {
   "cell_type": "code",
   "execution_count": 4,
   "metadata": {},
   "outputs": [
    {
     "data": {
      "text/plain": [
       "(882, 4)"
      ]
     },
     "execution_count": 4,
     "metadata": {},
     "output_type": "execute_result"
    }
   ],
   "source": [
    "clinical_eda.shape"
   ]
  },
  {
   "cell_type": "code",
   "execution_count": 5,
   "metadata": {},
   "outputs": [
    {
     "data": {
      "text/plain": [
       "(1706, 13)"
      ]
     },
     "execution_count": 5,
     "metadata": {},
     "output_type": "execute_result"
    }
   ],
   "source": [
    "metadata_eda.shape"
   ]
  },
  {
   "cell_type": "code",
   "execution_count": 6,
   "metadata": {},
   "outputs": [
    {
     "data": {
      "text/plain": [
       "case_id        0\n",
       "exposures      1\n",
       "demographic    1\n",
       "diagnoses      1\n",
       "dtype: int64"
      ]
     },
     "execution_count": 6,
     "metadata": {},
     "output_type": "execute_result"
    }
   ],
   "source": [
    "clinical_eda.isnull().sum()"
   ]
  },
  {
   "cell_type": "code",
   "execution_count": 7,
   "metadata": {},
   "outputs": [
    {
     "data": {
      "text/html": [
       "<div>\n",
       "<style scoped>\n",
       "    .dataframe tbody tr th:only-of-type {\n",
       "        vertical-align: middle;\n",
       "    }\n",
       "\n",
       "    .dataframe tbody tr th {\n",
       "        vertical-align: top;\n",
       "    }\n",
       "\n",
       "    .dataframe thead th {\n",
       "        text-align: right;\n",
       "    }\n",
       "</style>\n",
       "<table border=\"1\" class=\"dataframe\">\n",
       "  <thead>\n",
       "    <tr style=\"text-align: right;\">\n",
       "      <th></th>\n",
       "      <th>case_id</th>\n",
       "      <th>exposures</th>\n",
       "      <th>demographic</th>\n",
       "      <th>diagnoses</th>\n",
       "    </tr>\n",
       "  </thead>\n",
       "  <tbody>\n",
       "    <tr>\n",
       "      <th>827</th>\n",
       "      <td>bc66f21c-7ae6-4312-b6c1-ea3e19f90485</td>\n",
       "      <td>NaN</td>\n",
       "      <td>NaN</td>\n",
       "      <td>NaN</td>\n",
       "    </tr>\n",
       "  </tbody>\n",
       "</table>\n",
       "</div>"
      ],
      "text/plain": [
       "                                  case_id exposures demographic diagnoses\n",
       "827  bc66f21c-7ae6-4312-b6c1-ea3e19f90485       NaN         NaN       NaN"
      ]
     },
     "execution_count": 7,
     "metadata": {},
     "output_type": "execute_result"
    }
   ],
   "source": [
    "clinical_eda.loc[clinical_eda['exposures'].isnull()]"
   ]
  },
  {
   "cell_type": "code",
   "execution_count": 8,
   "metadata": {},
   "outputs": [
    {
     "data": {
      "text/plain": [
       "data_format                 0\n",
       "file_name                   0\n",
       "submitter_id                0\n",
       "data_type                   0\n",
       "data_category               0\n",
       "file_size                   0\n",
       "experimental_strategy       0\n",
       "state                       0\n",
       "md5sum                      0\n",
       "file_id                     0\n",
       "associated_entities         0\n",
       "access                      0\n",
       "annotations              1578\n",
       "dtype: int64"
      ]
     },
     "execution_count": 8,
     "metadata": {},
     "output_type": "execute_result"
    }
   ],
   "source": [
    "metadata_eda.isnull().sum()"
   ]
  },
  {
   "cell_type": "markdown",
   "metadata": {},
   "source": [
    "# Metadata JSON File"
   ]
  },
  {
   "cell_type": "code",
   "execution_count": 9,
   "metadata": {
    "scrolled": true
   },
   "outputs": [
    {
     "data": {
      "text/html": [
       "<div>\n",
       "<style scoped>\n",
       "    .dataframe tbody tr th:only-of-type {\n",
       "        vertical-align: middle;\n",
       "    }\n",
       "\n",
       "    .dataframe tbody tr th {\n",
       "        vertical-align: top;\n",
       "    }\n",
       "\n",
       "    .dataframe thead th {\n",
       "        text-align: right;\n",
       "    }\n",
       "</style>\n",
       "<table border=\"1\" class=\"dataframe\">\n",
       "  <thead>\n",
       "    <tr style=\"text-align: right;\">\n",
       "      <th></th>\n",
       "      <th>data_format</th>\n",
       "      <th>file_name</th>\n",
       "      <th>submitter_id</th>\n",
       "      <th>data_type</th>\n",
       "      <th>data_category</th>\n",
       "      <th>file_size</th>\n",
       "      <th>experimental_strategy</th>\n",
       "      <th>state</th>\n",
       "      <th>md5sum</th>\n",
       "      <th>file_id</th>\n",
       "      <th>associated_entities</th>\n",
       "      <th>access</th>\n",
       "      <th>annotations</th>\n",
       "    </tr>\n",
       "  </thead>\n",
       "  <tbody>\n",
       "    <tr>\n",
       "      <th>0</th>\n",
       "      <td>SVS</td>\n",
       "      <td>TCGA-HT-7882-01Z-00-DX4.8B139B5B-567F-4810-A03...</td>\n",
       "      <td>TCGA-HT-7882-01Z-00-DX4_slide_image</td>\n",
       "      <td>Slide Image</td>\n",
       "      <td>Biospecimen</td>\n",
       "      <td>561683973</td>\n",
       "      <td>Diagnostic Slide</td>\n",
       "      <td>released</td>\n",
       "      <td>c0e80354a9364a9ab0f31e6c5f51a248</td>\n",
       "      <td>5df8c657-36b5-410e-a116-cb1f4db29ec7</td>\n",
       "      <td>[{'entity_type': 'slide', 'case_id': '912d6455...</td>\n",
       "      <td>open</td>\n",
       "      <td>NaN</td>\n",
       "    </tr>\n",
       "  </tbody>\n",
       "</table>\n",
       "</div>"
      ],
      "text/plain": [
       "  data_format                                          file_name  \\\n",
       "0         SVS  TCGA-HT-7882-01Z-00-DX4.8B139B5B-567F-4810-A03...   \n",
       "\n",
       "                          submitter_id    data_type data_category  file_size  \\\n",
       "0  TCGA-HT-7882-01Z-00-DX4_slide_image  Slide Image   Biospecimen  561683973   \n",
       "\n",
       "  experimental_strategy     state                            md5sum  \\\n",
       "0      Diagnostic Slide  released  c0e80354a9364a9ab0f31e6c5f51a248   \n",
       "\n",
       "                                file_id  \\\n",
       "0  5df8c657-36b5-410e-a116-cb1f4db29ec7   \n",
       "\n",
       "                                 associated_entities access annotations  \n",
       "0  [{'entity_type': 'slide', 'case_id': '912d6455...   open         NaN  "
      ]
     },
     "execution_count": 9,
     "metadata": {},
     "output_type": "execute_result"
    }
   ],
   "source": [
    "# Reload Data and start fresh. \n",
    "metadata_df = pd.read_json('./metadata.cart.2020-05-20.json')\n",
    "metadata_df.head(1)"
   ]
  },
  {
   "cell_type": "code",
   "execution_count": 10,
   "metadata": {},
   "outputs": [
    {
     "data": {
      "text/html": [
       "<div>\n",
       "<style scoped>\n",
       "    .dataframe tbody tr th:only-of-type {\n",
       "        vertical-align: middle;\n",
       "    }\n",
       "\n",
       "    .dataframe tbody tr th {\n",
       "        vertical-align: top;\n",
       "    }\n",
       "\n",
       "    .dataframe thead th {\n",
       "        text-align: right;\n",
       "    }\n",
       "</style>\n",
       "<table border=\"1\" class=\"dataframe\">\n",
       "  <thead>\n",
       "    <tr style=\"text-align: right;\">\n",
       "      <th></th>\n",
       "      <th>data_format</th>\n",
       "      <th>file_name</th>\n",
       "      <th>submitter_id</th>\n",
       "      <th>data_type</th>\n",
       "      <th>data_category</th>\n",
       "      <th>file_size</th>\n",
       "      <th>experimental_strategy</th>\n",
       "      <th>state</th>\n",
       "      <th>md5sum</th>\n",
       "      <th>file_id</th>\n",
       "      <th>associated_entities</th>\n",
       "      <th>access</th>\n",
       "      <th>annotations</th>\n",
       "      <th>entity_type</th>\n",
       "      <th>case_id</th>\n",
       "      <th>entity_id</th>\n",
       "      <th>entity_submitter_id</th>\n",
       "    </tr>\n",
       "  </thead>\n",
       "  <tbody>\n",
       "    <tr>\n",
       "      <th>0</th>\n",
       "      <td>SVS</td>\n",
       "      <td>TCGA-HT-7882-01Z-00-DX4.8B139B5B-567F-4810-A03...</td>\n",
       "      <td>TCGA-HT-7882-01Z-00-DX4_slide_image</td>\n",
       "      <td>Slide Image</td>\n",
       "      <td>Biospecimen</td>\n",
       "      <td>561683973</td>\n",
       "      <td>Diagnostic Slide</td>\n",
       "      <td>released</td>\n",
       "      <td>c0e80354a9364a9ab0f31e6c5f51a248</td>\n",
       "      <td>5df8c657-36b5-410e-a116-cb1f4db29ec7</td>\n",
       "      <td>[{'entity_type': 'slide', 'case_id': '912d6455...</td>\n",
       "      <td>open</td>\n",
       "      <td>NaN</td>\n",
       "      <td>slide</td>\n",
       "      <td>912d6455-0a50-4fde-b785-f6c09b00b7e4</td>\n",
       "      <td>14d2d3db-28e2-4bd7-b5a8-e1074d50d3b8</td>\n",
       "      <td>TCGA-HT-7882-01Z-00-DX4</td>\n",
       "    </tr>\n",
       "    <tr>\n",
       "      <th>1</th>\n",
       "      <td>SVS</td>\n",
       "      <td>TCGA-HT-7482-01Z-00-DX4.5B6C52B2-6DE5-46CC-B8C...</td>\n",
       "      <td>TCGA-HT-7482-01Z-00-DX4_slide_image</td>\n",
       "      <td>Slide Image</td>\n",
       "      <td>Biospecimen</td>\n",
       "      <td>126657109</td>\n",
       "      <td>Diagnostic Slide</td>\n",
       "      <td>released</td>\n",
       "      <td>6e72698613fbc225bd18ea7b1ade9a0b</td>\n",
       "      <td>a710baaa-cfce-470b-ba93-b7a2a69f4de1</td>\n",
       "      <td>[{'entity_type': 'slide', 'case_id': '448d3e3b...</td>\n",
       "      <td>open</td>\n",
       "      <td>NaN</td>\n",
       "      <td>slide</td>\n",
       "      <td>448d3e3b-622c-4e79-bb1d-b5f2e92970e8</td>\n",
       "      <td>0d8eda9f-377b-4f0b-a47a-beb2611ab03d</td>\n",
       "      <td>TCGA-HT-7482-01Z-00-DX4</td>\n",
       "    </tr>\n",
       "    <tr>\n",
       "      <th>2</th>\n",
       "      <td>SVS</td>\n",
       "      <td>TCGA-DH-A66B-01Z-00-DX1.8669A577-0481-4C15-B4C...</td>\n",
       "      <td>TCGA-DH-A66B-01Z-00-DX1_slide_image</td>\n",
       "      <td>Slide Image</td>\n",
       "      <td>Biospecimen</td>\n",
       "      <td>1300303345</td>\n",
       "      <td>Diagnostic Slide</td>\n",
       "      <td>released</td>\n",
       "      <td>a26117dc26f87c24dfad0e3a3d5b9bdc</td>\n",
       "      <td>3adc47cf-8b21-4b2b-9684-534451e91322</td>\n",
       "      <td>[{'entity_type': 'slide', 'case_id': 'cb1e9916...</td>\n",
       "      <td>open</td>\n",
       "      <td>NaN</td>\n",
       "      <td>slide</td>\n",
       "      <td>cb1e9916-c03f-405a-a797-15823df09c8e</td>\n",
       "      <td>408f0a8c-d873-43a8-b5b7-749f3149ccbd</td>\n",
       "      <td>TCGA-DH-A66B-01Z-00-DX1</td>\n",
       "    </tr>\n",
       "    <tr>\n",
       "      <th>3</th>\n",
       "      <td>SVS</td>\n",
       "      <td>TCGA-DB-A64Q-01Z-00-DX1.CD3937C2-015A-490D-B6A...</td>\n",
       "      <td>TCGA-DB-A64Q-01Z-00-DX1_slide_image</td>\n",
       "      <td>Slide Image</td>\n",
       "      <td>Biospecimen</td>\n",
       "      <td>1789132612</td>\n",
       "      <td>Diagnostic Slide</td>\n",
       "      <td>released</td>\n",
       "      <td>65a1f745caab665311d1bb5d7d53dcc4</td>\n",
       "      <td>5a6aa6a1-556c-4481-ac06-3f2feb853296</td>\n",
       "      <td>[{'entity_type': 'slide', 'case_id': '887def39...</td>\n",
       "      <td>open</td>\n",
       "      <td>NaN</td>\n",
       "      <td>slide</td>\n",
       "      <td>887def39-e212-490d-8849-2bc932fceff0</td>\n",
       "      <td>9bb20abd-0256-45f3-ac18-c1ab73044f31</td>\n",
       "      <td>TCGA-DB-A64Q-01Z-00-DX1</td>\n",
       "    </tr>\n",
       "    <tr>\n",
       "      <th>4</th>\n",
       "      <td>SVS</td>\n",
       "      <td>TCGA-R8-A6MK-01Z-00-DXB.F02C56E8-9793-4272-B14...</td>\n",
       "      <td>TCGA-R8-A6MK-01Z-00-DXB_slide_image</td>\n",
       "      <td>Slide Image</td>\n",
       "      <td>Biospecimen</td>\n",
       "      <td>2156870006</td>\n",
       "      <td>Diagnostic Slide</td>\n",
       "      <td>released</td>\n",
       "      <td>a22a4a3fb637fb48a6c588f2157b724b</td>\n",
       "      <td>9ad09160-2a74-4307-ad23-97aec076aa2d</td>\n",
       "      <td>[{'entity_type': 'slide', 'case_id': '65836b59...</td>\n",
       "      <td>open</td>\n",
       "      <td>NaN</td>\n",
       "      <td>slide</td>\n",
       "      <td>65836b59-b469-4b89-adf5-e65735e494f5</td>\n",
       "      <td>b930e2d7-b22d-4fd3-a856-a8a7d1af0748</td>\n",
       "      <td>TCGA-R8-A6MK-01Z-00-DXB</td>\n",
       "    </tr>\n",
       "  </tbody>\n",
       "</table>\n",
       "</div>"
      ],
      "text/plain": [
       "  data_format                                          file_name  \\\n",
       "0         SVS  TCGA-HT-7882-01Z-00-DX4.8B139B5B-567F-4810-A03...   \n",
       "1         SVS  TCGA-HT-7482-01Z-00-DX4.5B6C52B2-6DE5-46CC-B8C...   \n",
       "2         SVS  TCGA-DH-A66B-01Z-00-DX1.8669A577-0481-4C15-B4C...   \n",
       "3         SVS  TCGA-DB-A64Q-01Z-00-DX1.CD3937C2-015A-490D-B6A...   \n",
       "4         SVS  TCGA-R8-A6MK-01Z-00-DXB.F02C56E8-9793-4272-B14...   \n",
       "\n",
       "                          submitter_id    data_type data_category   file_size  \\\n",
       "0  TCGA-HT-7882-01Z-00-DX4_slide_image  Slide Image   Biospecimen   561683973   \n",
       "1  TCGA-HT-7482-01Z-00-DX4_slide_image  Slide Image   Biospecimen   126657109   \n",
       "2  TCGA-DH-A66B-01Z-00-DX1_slide_image  Slide Image   Biospecimen  1300303345   \n",
       "3  TCGA-DB-A64Q-01Z-00-DX1_slide_image  Slide Image   Biospecimen  1789132612   \n",
       "4  TCGA-R8-A6MK-01Z-00-DXB_slide_image  Slide Image   Biospecimen  2156870006   \n",
       "\n",
       "  experimental_strategy     state                            md5sum  \\\n",
       "0      Diagnostic Slide  released  c0e80354a9364a9ab0f31e6c5f51a248   \n",
       "1      Diagnostic Slide  released  6e72698613fbc225bd18ea7b1ade9a0b   \n",
       "2      Diagnostic Slide  released  a26117dc26f87c24dfad0e3a3d5b9bdc   \n",
       "3      Diagnostic Slide  released  65a1f745caab665311d1bb5d7d53dcc4   \n",
       "4      Diagnostic Slide  released  a22a4a3fb637fb48a6c588f2157b724b   \n",
       "\n",
       "                                file_id  \\\n",
       "0  5df8c657-36b5-410e-a116-cb1f4db29ec7   \n",
       "1  a710baaa-cfce-470b-ba93-b7a2a69f4de1   \n",
       "2  3adc47cf-8b21-4b2b-9684-534451e91322   \n",
       "3  5a6aa6a1-556c-4481-ac06-3f2feb853296   \n",
       "4  9ad09160-2a74-4307-ad23-97aec076aa2d   \n",
       "\n",
       "                                 associated_entities access annotations  \\\n",
       "0  [{'entity_type': 'slide', 'case_id': '912d6455...   open         NaN   \n",
       "1  [{'entity_type': 'slide', 'case_id': '448d3e3b...   open         NaN   \n",
       "2  [{'entity_type': 'slide', 'case_id': 'cb1e9916...   open         NaN   \n",
       "3  [{'entity_type': 'slide', 'case_id': '887def39...   open         NaN   \n",
       "4  [{'entity_type': 'slide', 'case_id': '65836b59...   open         NaN   \n",
       "\n",
       "  entity_type                               case_id  \\\n",
       "0       slide  912d6455-0a50-4fde-b785-f6c09b00b7e4   \n",
       "1       slide  448d3e3b-622c-4e79-bb1d-b5f2e92970e8   \n",
       "2       slide  cb1e9916-c03f-405a-a797-15823df09c8e   \n",
       "3       slide  887def39-e212-490d-8849-2bc932fceff0   \n",
       "4       slide  65836b59-b469-4b89-adf5-e65735e494f5   \n",
       "\n",
       "                              entity_id      entity_submitter_id  \n",
       "0  14d2d3db-28e2-4bd7-b5a8-e1074d50d3b8  TCGA-HT-7882-01Z-00-DX4  \n",
       "1  0d8eda9f-377b-4f0b-a47a-beb2611ab03d  TCGA-HT-7482-01Z-00-DX4  \n",
       "2  408f0a8c-d873-43a8-b5b7-749f3149ccbd  TCGA-DH-A66B-01Z-00-DX1  \n",
       "3  9bb20abd-0256-45f3-ac18-c1ab73044f31  TCGA-DB-A64Q-01Z-00-DX1  \n",
       "4  b930e2d7-b22d-4fd3-a856-a8a7d1af0748  TCGA-R8-A6MK-01Z-00-DXB  "
      ]
     },
     "execution_count": 10,
     "metadata": {},
     "output_type": "execute_result"
    }
   ],
   "source": [
    "# Unpacking associated_entities Dictionary:\n",
    "for key in metadata_df['associated_entities'][0][0].keys():\n",
    "    metadata_df[key] = [value[0][key] for value in metadata_df['associated_entities']]\n",
    "\n",
    "metadata_df.head()"
   ]
  },
  {
   "cell_type": "markdown",
   "metadata": {},
   "source": []
  },
  {
   "cell_type": "markdown",
   "metadata": {},
   "source": [
    "# Clinical JSON File:"
   ]
  },
  {
   "cell_type": "code",
   "execution_count": 11,
   "metadata": {},
   "outputs": [
    {
     "data": {
      "text/html": [
       "<div>\n",
       "<style scoped>\n",
       "    .dataframe tbody tr th:only-of-type {\n",
       "        vertical-align: middle;\n",
       "    }\n",
       "\n",
       "    .dataframe tbody tr th {\n",
       "        vertical-align: top;\n",
       "    }\n",
       "\n",
       "    .dataframe thead th {\n",
       "        text-align: right;\n",
       "    }\n",
       "</style>\n",
       "<table border=\"1\" class=\"dataframe\">\n",
       "  <thead>\n",
       "    <tr style=\"text-align: right;\">\n",
       "      <th></th>\n",
       "      <th>case_id</th>\n",
       "      <th>exposures</th>\n",
       "      <th>demographic</th>\n",
       "      <th>diagnoses</th>\n",
       "    </tr>\n",
       "  </thead>\n",
       "  <tbody>\n",
       "    <tr>\n",
       "      <th>0</th>\n",
       "      <td>106709ec-72df-44f0-8c71-87b7c755f8f0</td>\n",
       "      <td>[{'state': 'released', 'alcohol_history': 'Not...</td>\n",
       "      <td>{'state': 'released', 'updated_datetime': '201...</td>\n",
       "      <td>[{'state': 'released', 'days_to_recurrence': N...</td>\n",
       "    </tr>\n",
       "  </tbody>\n",
       "</table>\n",
       "</div>"
      ],
      "text/plain": [
       "                                case_id  \\\n",
       "0  106709ec-72df-44f0-8c71-87b7c755f8f0   \n",
       "\n",
       "                                           exposures  \\\n",
       "0  [{'state': 'released', 'alcohol_history': 'Not...   \n",
       "\n",
       "                                         demographic  \\\n",
       "0  {'state': 'released', 'updated_datetime': '201...   \n",
       "\n",
       "                                           diagnoses  \n",
       "0  [{'state': 'released', 'days_to_recurrence': N...  "
      ]
     },
     "execution_count": 11,
     "metadata": {},
     "output_type": "execute_result"
    }
   ],
   "source": [
    "# Reload Data and start fresh. \n",
    "clinical_df = pd.read_json('./clinical.cart.2020-05-20.json')\n",
    "clinical_df.dropna(inplace=True) # drop row 827 with no info\n",
    "clinical_df.head(1)"
   ]
  },
  {
   "cell_type": "code",
   "execution_count": 12,
   "metadata": {},
   "outputs": [],
   "source": [
    "# Unpacking Dictionaries:\n",
    "for col in ['exposures','diagnoses']:\n",
    "#     print('****',col)\n",
    "    for key in clinical_df[col][0][0].keys():\n",
    "        clinical_df[f'{col}_{key}'] = [value[0][key] for value in clinical_df[col]]"
   ]
  },
  {
   "cell_type": "code",
   "execution_count": 13,
   "metadata": {},
   "outputs": [
    {
     "data": {
      "text/plain": [
       "Glioblastoma                                      389\n",
       "Mixed glioma                                      130\n",
       "Astrocytoma, anaplastic                           122\n",
       "Oligodendroglioma, NOS                            107\n",
       "Oligodendroglioma, anaplastic                      72\n",
       "Astrocytoma, NOS                                   59\n",
       "Malignant lymphoma, large B-cell, diffuse, NOS      2\n",
       "Name: diagnoses_primary_diagnosis, dtype: int64"
      ]
     },
     "execution_count": 13,
     "metadata": {},
     "output_type": "execute_result"
    }
   ],
   "source": [
    "\n",
    "clinical_df['diagnoses_primary_diagnosis'].value_counts()"
   ]
  },
  {
   "cell_type": "code",
   "execution_count": 14,
   "metadata": {
    "scrolled": true
   },
   "outputs": [
    {
     "name": "stdout",
     "output_type": "stream",
     "text": [
      "Encountered Missing value at days_to_birth index 410\n"
     ]
    }
   ],
   "source": [
    "# Demographic loaded in not as a list. So we have one less 'layer' to unpack\n",
    "for key in clinical_df['demographic'][0].keys():\n",
    "    for i , value in enumerate(clinical_df['demographic']):\n",
    "        try:\n",
    "            clinical_df[f'demographic_{key}'] = value[key]\n",
    "        except:\n",
    "            clinical_df[f'demographic_{key}'] = np.NaN\n",
    "            print(f'Encountered Missing value at {key} index {i}')"
   ]
  },
  {
   "cell_type": "markdown",
   "metadata": {},
   "source": [
    "# Combining Dataframes"
   ]
  },
  {
   "cell_type": "code",
   "execution_count": 15,
   "metadata": {},
   "outputs": [
    {
     "data": {
      "text/html": [
       "<div>\n",
       "<style scoped>\n",
       "    .dataframe tbody tr th:only-of-type {\n",
       "        vertical-align: middle;\n",
       "    }\n",
       "\n",
       "    .dataframe tbody tr th {\n",
       "        vertical-align: top;\n",
       "    }\n",
       "\n",
       "    .dataframe thead th {\n",
       "        text-align: right;\n",
       "    }\n",
       "</style>\n",
       "<table border=\"1\" class=\"dataframe\">\n",
       "  <thead>\n",
       "    <tr style=\"text-align: right;\">\n",
       "      <th></th>\n",
       "      <th>case_id</th>\n",
       "      <th>exposures</th>\n",
       "      <th>demographic</th>\n",
       "      <th>diagnoses</th>\n",
       "      <th>exposures_state</th>\n",
       "      <th>exposures_alcohol_history</th>\n",
       "      <th>exposures_alcohol_intensity</th>\n",
       "      <th>exposures_created_datetime</th>\n",
       "      <th>exposures_bmi</th>\n",
       "      <th>exposures_height</th>\n",
       "      <th>...</th>\n",
       "      <th>demographic_created_datetime</th>\n",
       "      <th>demographic_demographic_id</th>\n",
       "      <th>demographic_days_to_birth</th>\n",
       "      <th>demographic_year_of_death</th>\n",
       "      <th>demographic_submitter_id</th>\n",
       "      <th>demographic_ethnicity</th>\n",
       "      <th>demographic_gender</th>\n",
       "      <th>demographic_race</th>\n",
       "      <th>demographic_vital_status</th>\n",
       "      <th>demographic_year_of_birth</th>\n",
       "    </tr>\n",
       "  </thead>\n",
       "  <tbody>\n",
       "    <tr>\n",
       "      <th>0</th>\n",
       "      <td>106709ec-72df-44f0-8c71-87b7c755f8f0</td>\n",
       "      <td>[{'state': 'released', 'alcohol_history': 'Not...</td>\n",
       "      <td>{'state': 'released', 'updated_datetime': '201...</td>\n",
       "      <td>[{'state': 'released', 'days_to_recurrence': N...</td>\n",
       "      <td>released</td>\n",
       "      <td>Not Reported</td>\n",
       "      <td>None</td>\n",
       "      <td>None</td>\n",
       "      <td>NaN</td>\n",
       "      <td>NaN</td>\n",
       "      <td>...</td>\n",
       "      <td>None</td>\n",
       "      <td>f808c090-8635-5305-8228-ef9f45138b8f</td>\n",
       "      <td>-13222</td>\n",
       "      <td>None</td>\n",
       "      <td>TCGA-HT-A616_demographic</td>\n",
       "      <td>not hispanic or latino</td>\n",
       "      <td>female</td>\n",
       "      <td>white</td>\n",
       "      <td>Alive</td>\n",
       "      <td>1977</td>\n",
       "    </tr>\n",
       "  </tbody>\n",
       "</table>\n",
       "<p>1 rows × 54 columns</p>\n",
       "</div>"
      ],
      "text/plain": [
       "                                case_id  \\\n",
       "0  106709ec-72df-44f0-8c71-87b7c755f8f0   \n",
       "\n",
       "                                           exposures  \\\n",
       "0  [{'state': 'released', 'alcohol_history': 'Not...   \n",
       "\n",
       "                                         demographic  \\\n",
       "0  {'state': 'released', 'updated_datetime': '201...   \n",
       "\n",
       "                                           diagnoses exposures_state  \\\n",
       "0  [{'state': 'released', 'days_to_recurrence': N...        released   \n",
       "\n",
       "  exposures_alcohol_history exposures_alcohol_intensity  \\\n",
       "0              Not Reported                        None   \n",
       "\n",
       "  exposures_created_datetime  exposures_bmi  exposures_height  ...  \\\n",
       "0                       None            NaN               NaN  ...   \n",
       "\n",
       "   demographic_created_datetime            demographic_demographic_id  \\\n",
       "0                          None  f808c090-8635-5305-8228-ef9f45138b8f   \n",
       "\n",
       "  demographic_days_to_birth demographic_year_of_death  \\\n",
       "0                    -13222                      None   \n",
       "\n",
       "   demographic_submitter_id   demographic_ethnicity demographic_gender  \\\n",
       "0  TCGA-HT-A616_demographic  not hispanic or latino             female   \n",
       "\n",
       "  demographic_race  demographic_vital_status demographic_year_of_birth  \n",
       "0            white                     Alive                      1977  \n",
       "\n",
       "[1 rows x 54 columns]"
      ]
     },
     "execution_count": 15,
     "metadata": {},
     "output_type": "execute_result"
    }
   ],
   "source": [
    "clinical_df.head(1)"
   ]
  },
  {
   "cell_type": "code",
   "execution_count": 16,
   "metadata": {},
   "outputs": [
    {
     "data": {
      "text/html": [
       "<div>\n",
       "<style scoped>\n",
       "    .dataframe tbody tr th:only-of-type {\n",
       "        vertical-align: middle;\n",
       "    }\n",
       "\n",
       "    .dataframe tbody tr th {\n",
       "        vertical-align: top;\n",
       "    }\n",
       "\n",
       "    .dataframe thead th {\n",
       "        text-align: right;\n",
       "    }\n",
       "</style>\n",
       "<table border=\"1\" class=\"dataframe\">\n",
       "  <thead>\n",
       "    <tr style=\"text-align: right;\">\n",
       "      <th></th>\n",
       "      <th>data_format</th>\n",
       "      <th>file_name</th>\n",
       "      <th>submitter_id</th>\n",
       "      <th>data_type</th>\n",
       "      <th>data_category</th>\n",
       "      <th>file_size</th>\n",
       "      <th>experimental_strategy</th>\n",
       "      <th>state</th>\n",
       "      <th>md5sum</th>\n",
       "      <th>file_id</th>\n",
       "      <th>associated_entities</th>\n",
       "      <th>access</th>\n",
       "      <th>annotations</th>\n",
       "      <th>entity_type</th>\n",
       "      <th>case_id</th>\n",
       "      <th>entity_id</th>\n",
       "      <th>entity_submitter_id</th>\n",
       "    </tr>\n",
       "  </thead>\n",
       "  <tbody>\n",
       "    <tr>\n",
       "      <th>0</th>\n",
       "      <td>SVS</td>\n",
       "      <td>TCGA-HT-7882-01Z-00-DX4.8B139B5B-567F-4810-A03...</td>\n",
       "      <td>TCGA-HT-7882-01Z-00-DX4_slide_image</td>\n",
       "      <td>Slide Image</td>\n",
       "      <td>Biospecimen</td>\n",
       "      <td>561683973</td>\n",
       "      <td>Diagnostic Slide</td>\n",
       "      <td>released</td>\n",
       "      <td>c0e80354a9364a9ab0f31e6c5f51a248</td>\n",
       "      <td>5df8c657-36b5-410e-a116-cb1f4db29ec7</td>\n",
       "      <td>[{'entity_type': 'slide', 'case_id': '912d6455...</td>\n",
       "      <td>open</td>\n",
       "      <td>NaN</td>\n",
       "      <td>slide</td>\n",
       "      <td>912d6455-0a50-4fde-b785-f6c09b00b7e4</td>\n",
       "      <td>14d2d3db-28e2-4bd7-b5a8-e1074d50d3b8</td>\n",
       "      <td>TCGA-HT-7882-01Z-00-DX4</td>\n",
       "    </tr>\n",
       "  </tbody>\n",
       "</table>\n",
       "</div>"
      ],
      "text/plain": [
       "  data_format                                          file_name  \\\n",
       "0         SVS  TCGA-HT-7882-01Z-00-DX4.8B139B5B-567F-4810-A03...   \n",
       "\n",
       "                          submitter_id    data_type data_category  file_size  \\\n",
       "0  TCGA-HT-7882-01Z-00-DX4_slide_image  Slide Image   Biospecimen  561683973   \n",
       "\n",
       "  experimental_strategy     state                            md5sum  \\\n",
       "0      Diagnostic Slide  released  c0e80354a9364a9ab0f31e6c5f51a248   \n",
       "\n",
       "                                file_id  \\\n",
       "0  5df8c657-36b5-410e-a116-cb1f4db29ec7   \n",
       "\n",
       "                                 associated_entities access annotations  \\\n",
       "0  [{'entity_type': 'slide', 'case_id': '912d6455...   open         NaN   \n",
       "\n",
       "  entity_type                               case_id  \\\n",
       "0       slide  912d6455-0a50-4fde-b785-f6c09b00b7e4   \n",
       "\n",
       "                              entity_id      entity_submitter_id  \n",
       "0  14d2d3db-28e2-4bd7-b5a8-e1074d50d3b8  TCGA-HT-7882-01Z-00-DX4  "
      ]
     },
     "execution_count": 16,
     "metadata": {},
     "output_type": "execute_result"
    }
   ],
   "source": [
    "metadata_df.head(1)"
   ]
  },
  {
   "cell_type": "code",
   "execution_count": 17,
   "metadata": {},
   "outputs": [
    {
     "data": {
      "text/plain": [
       "(1706, 17)"
      ]
     },
     "execution_count": 17,
     "metadata": {},
     "output_type": "execute_result"
    }
   ],
   "source": [
    "metadata_df.shape"
   ]
  },
  {
   "cell_type": "code",
   "execution_count": 18,
   "metadata": {},
   "outputs": [],
   "source": [
    "df = metadata_df.merge(clinical_df, left_on = 'case_id', right_on = 'case_id')"
   ]
  },
  {
   "cell_type": "code",
   "execution_count": 19,
   "metadata": {
    "scrolled": true
   },
   "outputs": [
    {
     "data": {
      "text/plain": [
       "(1705, 70)"
      ]
     },
     "execution_count": 19,
     "metadata": {},
     "output_type": "execute_result"
    }
   ],
   "source": [
    "df.shape"
   ]
  },
  {
   "cell_type": "code",
   "execution_count": 20,
   "metadata": {},
   "outputs": [],
   "source": [
    "# df.columns"
   ]
  },
  {
   "cell_type": "code",
   "execution_count": 21,
   "metadata": {},
   "outputs": [],
   "source": [
    "basic_df = df[['file_name', 'file_id', 'case_id', 'diagnoses_primary_diagnosis']]"
   ]
  },
  {
   "cell_type": "code",
   "execution_count": 22,
   "metadata": {},
   "outputs": [],
   "source": [
    "# metadata_df['file_id']"
   ]
  },
  {
   "cell_type": "code",
   "execution_count": 23,
   "metadata": {
    "scrolled": true
   },
   "outputs": [],
   "source": [
    "# basic_df['file_id']"
   ]
  },
  {
   "cell_type": "code",
   "execution_count": 24,
   "metadata": {
    "scrolled": false
   },
   "outputs": [
    {
     "name": "stdout",
     "output_type": "stream",
     "text": [
      "97ffa63a-a2a0-4241-a088-5c8820aed0c3\n"
     ]
    }
   ],
   "source": [
    "# Figure out why we are getting 1705 rows instead of 1706\n",
    "for file in metadata_df['file_id']:\n",
    "    if file not in [value for value in basic_df['file_id']]:\n",
    "        print(file)\n",
    "        \n",
    "# this dropped row is clinical_df row 827, which was removed because there was no clinical information"
   ]
  },
  {
   "cell_type": "markdown",
   "metadata": {},
   "source": [
    "# Final EDA"
   ]
  },
  {
   "cell_type": "code",
   "execution_count": 25,
   "metadata": {
    "scrolled": true
   },
   "outputs": [
    {
     "data": {
      "text/plain": [
       "(1705, 70)"
      ]
     },
     "execution_count": 25,
     "metadata": {},
     "output_type": "execute_result"
    }
   ],
   "source": [
    "df.shape"
   ]
  },
  {
   "cell_type": "code",
   "execution_count": 26,
   "metadata": {},
   "outputs": [
    {
     "name": "stdout",
     "output_type": "stream",
     "text": [
      "<class 'pandas.core.frame.DataFrame'>\n",
      "Int64Index: 1705 entries, 0 to 1704\n",
      "Data columns (total 70 columns):\n",
      " #   Column                                       Non-Null Count  Dtype  \n",
      "---  ------                                       --------------  -----  \n",
      " 0   data_format                                  1705 non-null   object \n",
      " 1   file_name                                    1705 non-null   object \n",
      " 2   submitter_id                                 1705 non-null   object \n",
      " 3   data_type                                    1705 non-null   object \n",
      " 4   data_category                                1705 non-null   object \n",
      " 5   file_size                                    1705 non-null   int64  \n",
      " 6   experimental_strategy                        1705 non-null   object \n",
      " 7   state                                        1705 non-null   object \n",
      " 8   md5sum                                       1705 non-null   object \n",
      " 9   file_id                                      1705 non-null   object \n",
      " 10  associated_entities                          1705 non-null   object \n",
      " 11  access                                       1705 non-null   object \n",
      " 12  annotations                                  128 non-null    object \n",
      " 13  entity_type                                  1705 non-null   object \n",
      " 14  case_id                                      1705 non-null   object \n",
      " 15  entity_id                                    1705 non-null   object \n",
      " 16  entity_submitter_id                          1705 non-null   object \n",
      " 17  exposures                                    1705 non-null   object \n",
      " 18  demographic                                  1705 non-null   object \n",
      " 19  diagnoses                                    1705 non-null   object \n",
      " 20  exposures_state                              1705 non-null   object \n",
      " 21  exposures_alcohol_history                    1705 non-null   object \n",
      " 22  exposures_alcohol_intensity                  0 non-null      object \n",
      " 23  exposures_created_datetime                   0 non-null      object \n",
      " 24  exposures_bmi                                2 non-null      float64\n",
      " 25  exposures_height                             2 non-null      float64\n",
      " 26  exposures_weight                             2 non-null      float64\n",
      " 27  exposures_submitter_id                       1705 non-null   object \n",
      " 28  exposures_cigarettes_per_day                 0 non-null      object \n",
      " 29  exposures_years_smoked                       0 non-null      object \n",
      " 30  exposures_updated_datetime                   1705 non-null   object \n",
      " 31  exposures_exposure_id                        1705 non-null   object \n",
      " 32  diagnoses_state                              1705 non-null   object \n",
      " 33  diagnoses_days_to_recurrence                 0 non-null      object \n",
      " 34  diagnoses_days_to_diagnosis                  1705 non-null   int64  \n",
      " 35  diagnoses_site_of_resection_or_biopsy        1705 non-null   object \n",
      " 36  diagnoses_morphology                         1705 non-null   object \n",
      " 37  diagnoses_classification_of_tumor            1705 non-null   object \n",
      " 38  diagnoses_diagnosis_id                       1705 non-null   object \n",
      " 39  diagnoses_submitter_id                       1705 non-null   object \n",
      " 40  diagnoses_tumor_stage                        1705 non-null   object \n",
      " 41  diagnoses_prior_malignancy                   1705 non-null   object \n",
      " 42  diagnoses_progression_or_recurrence          1705 non-null   object \n",
      " 43  diagnoses_tissue_or_organ_of_origin          1705 non-null   object \n",
      " 44  diagnoses_treatments                         1705 non-null   object \n",
      " 45  diagnoses_created_datetime                   0 non-null      object \n",
      " 46  diagnoses_icd_10_code                        1705 non-null   object \n",
      " 47  diagnoses_primary_diagnosis                  1705 non-null   object \n",
      " 48  diagnoses_prior_treatment                    1705 non-null   object \n",
      " 49  diagnoses_days_to_last_follow_up             1566 non-null   float64\n",
      " 50  diagnoses_synchronous_malignancy             1705 non-null   object \n",
      " 51  diagnoses_age_at_diagnosis                   1704 non-null   float64\n",
      " 52  diagnoses_days_to_last_known_disease_status  0 non-null      object \n",
      " 53  diagnoses_tumor_grade                        1705 non-null   object \n",
      " 54  diagnoses_last_known_disease_status          1705 non-null   object \n",
      " 55  diagnoses_updated_datetime                   1705 non-null   object \n",
      " 56  diagnoses_year_of_diagnosis                  1705 non-null   int64  \n",
      " 57  demographic_state                            1705 non-null   object \n",
      " 58  demographic_updated_datetime                 1705 non-null   object \n",
      " 59  demographic_age_at_index                     1705 non-null   int64  \n",
      " 60  demographic_created_datetime                 0 non-null      object \n",
      " 61  demographic_demographic_id                   1705 non-null   object \n",
      " 62  demographic_days_to_birth                    1705 non-null   int64  \n",
      " 63  demographic_year_of_death                    0 non-null      object \n",
      " 64  demographic_submitter_id                     1705 non-null   object \n",
      " 65  demographic_ethnicity                        1705 non-null   object \n",
      " 66  demographic_gender                           1705 non-null   object \n",
      " 67  demographic_race                             1705 non-null   object \n",
      " 68  demographic_vital_status                     1705 non-null   object \n",
      " 69  demographic_year_of_birth                    1705 non-null   int64  \n",
      "dtypes: float64(5), int64(6), object(59)\n",
      "memory usage: 945.7+ KB\n"
     ]
    }
   ],
   "source": [
    "df.info()"
   ]
  },
  {
   "cell_type": "code",
   "execution_count": null,
   "metadata": {},
   "outputs": [],
   "source": []
  },
  {
   "cell_type": "code",
   "execution_count": 27,
   "metadata": {},
   "outputs": [
    {
     "data": {
      "text/html": [
       "<div>\n",
       "<style scoped>\n",
       "    .dataframe tbody tr th:only-of-type {\n",
       "        vertical-align: middle;\n",
       "    }\n",
       "\n",
       "    .dataframe tbody tr th {\n",
       "        vertical-align: top;\n",
       "    }\n",
       "\n",
       "    .dataframe thead th {\n",
       "        text-align: right;\n",
       "    }\n",
       "</style>\n",
       "<table border=\"1\" class=\"dataframe\">\n",
       "  <thead>\n",
       "    <tr style=\"text-align: right;\">\n",
       "      <th></th>\n",
       "      <th>case_id</th>\n",
       "      <th>file_id</th>\n",
       "      <th>file_name</th>\n",
       "      <th>diagnoses_primary_diagnosis</th>\n",
       "    </tr>\n",
       "  </thead>\n",
       "  <tbody>\n",
       "    <tr>\n",
       "      <th>0</th>\n",
       "      <td>912d6455-0a50-4fde-b785-f6c09b00b7e4</td>\n",
       "      <td>5df8c657-36b5-410e-a116-cb1f4db29ec7</td>\n",
       "      <td>TCGA-HT-7882-01Z-00-DX4.8B139B5B-567F-4810-A03...</td>\n",
       "      <td>Oligodendroglioma, anaplastic</td>\n",
       "    </tr>\n",
       "    <tr>\n",
       "      <th>1</th>\n",
       "      <td>912d6455-0a50-4fde-b785-f6c09b00b7e4</td>\n",
       "      <td>b3f00c7e-df0f-4321-be96-21153bffce41</td>\n",
       "      <td>TCGA-HT-7882-01Z-00-DX1.B5224DF8-94F3-47F3-99F...</td>\n",
       "      <td>Oligodendroglioma, anaplastic</td>\n",
       "    </tr>\n",
       "    <tr>\n",
       "      <th>2</th>\n",
       "      <td>912d6455-0a50-4fde-b785-f6c09b00b7e4</td>\n",
       "      <td>dc640c8c-e8ee-467a-871f-3785337ebd68</td>\n",
       "      <td>TCGA-HT-7882-01Z-00-DX3.E16AFAA3-F6A2-45D6-862...</td>\n",
       "      <td>Oligodendroglioma, anaplastic</td>\n",
       "    </tr>\n",
       "    <tr>\n",
       "      <th>3</th>\n",
       "      <td>912d6455-0a50-4fde-b785-f6c09b00b7e4</td>\n",
       "      <td>e85578a5-145f-41dc-b9db-6feef23597e9</td>\n",
       "      <td>TCGA-HT-7882-01Z-00-DX5.2F59EB36-9950-4136-821...</td>\n",
       "      <td>Oligodendroglioma, anaplastic</td>\n",
       "    </tr>\n",
       "    <tr>\n",
       "      <th>4</th>\n",
       "      <td>912d6455-0a50-4fde-b785-f6c09b00b7e4</td>\n",
       "      <td>8c2d7dd0-22bf-42c1-ac52-6005467ebc51</td>\n",
       "      <td>TCGA-HT-7882-01Z-00-DX2.8F391B3B-6995-4594-8E6...</td>\n",
       "      <td>Oligodendroglioma, anaplastic</td>\n",
       "    </tr>\n",
       "  </tbody>\n",
       "</table>\n",
       "</div>"
      ],
      "text/plain": [
       "                                case_id                               file_id  \\\n",
       "0  912d6455-0a50-4fde-b785-f6c09b00b7e4  5df8c657-36b5-410e-a116-cb1f4db29ec7   \n",
       "1  912d6455-0a50-4fde-b785-f6c09b00b7e4  b3f00c7e-df0f-4321-be96-21153bffce41   \n",
       "2  912d6455-0a50-4fde-b785-f6c09b00b7e4  dc640c8c-e8ee-467a-871f-3785337ebd68   \n",
       "3  912d6455-0a50-4fde-b785-f6c09b00b7e4  e85578a5-145f-41dc-b9db-6feef23597e9   \n",
       "4  912d6455-0a50-4fde-b785-f6c09b00b7e4  8c2d7dd0-22bf-42c1-ac52-6005467ebc51   \n",
       "\n",
       "                                           file_name  \\\n",
       "0  TCGA-HT-7882-01Z-00-DX4.8B139B5B-567F-4810-A03...   \n",
       "1  TCGA-HT-7882-01Z-00-DX1.B5224DF8-94F3-47F3-99F...   \n",
       "2  TCGA-HT-7882-01Z-00-DX3.E16AFAA3-F6A2-45D6-862...   \n",
       "3  TCGA-HT-7882-01Z-00-DX5.2F59EB36-9950-4136-821...   \n",
       "4  TCGA-HT-7882-01Z-00-DX2.8F391B3B-6995-4594-8E6...   \n",
       "\n",
       "     diagnoses_primary_diagnosis  \n",
       "0  Oligodendroglioma, anaplastic  \n",
       "1  Oligodendroglioma, anaplastic  \n",
       "2  Oligodendroglioma, anaplastic  \n",
       "3  Oligodendroglioma, anaplastic  \n",
       "4  Oligodendroglioma, anaplastic  "
      ]
     },
     "execution_count": 27,
     "metadata": {},
     "output_type": "execute_result"
    }
   ],
   "source": [
    "# Lets make our database with just case_id, file_id, file_name, primary diagnosis.\n",
    "# This is just what we care about w/regard to just the image classifcation\n",
    "\n",
    "\n",
    "classification_df = pd.DataFrame(df[['case_id', # case id\n",
    "                            'file_id', # name of folder created with file in it\n",
    "                            'file_name', # actual name of file\n",
    "                            'diagnoses_primary_diagnosis' # \n",
    "                           ]])\n",
    "classification_df.head(5)"
   ]
  },
  {
   "cell_type": "code",
   "execution_count": 28,
   "metadata": {},
   "outputs": [
    {
     "data": {
      "text/plain": [
       "Glioblastoma                                      860\n",
       "Mixed glioma                                      216\n",
       "Oligodendroglioma, NOS                            204\n",
       "Astrocytoma, anaplastic                           164\n",
       "Oligodendroglioma, anaplastic                     155\n",
       "Astrocytoma, NOS                                  104\n",
       "Malignant lymphoma, large B-cell, diffuse, NOS      2\n",
       "Name: diagnoses_primary_diagnosis, dtype: int64"
      ]
     },
     "execution_count": 28,
     "metadata": {},
     "output_type": "execute_result"
    }
   ],
   "source": [
    "classification_df['diagnoses_primary_diagnosis'].value_counts()"
   ]
  },
  {
   "cell_type": "code",
   "execution_count": 29,
   "metadata": {},
   "outputs": [
    {
     "data": {
      "text/plain": [
       "TCGA-FG-7643-01Z-00-DX1.2F1D1287-FC69-4A7A-B401-9F48C0A2A7B9.svs    1\n",
       "TCGA-12-0616-01Z-00-DX6.2f9366a7-27d3-4538-922e-e271e435244f.svs    1\n",
       "TCGA-06-0209-01Z-00-DX1.d6963fa7-3427-4088-8dc3-cfc489ac0ddf.svs    1\n",
       "TCGA-HT-7677-01Z-00-DX7.C2762524-C070-4F71-86BE-57CFD74BF67A.svs    1\n",
       "TCGA-FG-7636-01Z-00-DX1.BD12D54F-E266-4950-AB43-912C714E338C.svs    1\n",
       "                                                                   ..\n",
       "TCGA-02-0001-01Z-00-DX3.2836ce55-491f-4d86-99b1-668946927af8.svs    1\n",
       "TCGA-DB-A75P-01Z-00-DX1.11655479-5A76-4689-B8F6-319F882B5EB7.svs    1\n",
       "TCGA-S9-A6TZ-01Z-00-DX1.5D0335F4-DB48-4428-800F-2B27E431BAA8.svs    1\n",
       "TCGA-14-0783-01Z-00-DX3.a81fa8d1-63a7-4f1f-9a47-2b3b89a2bd0d.svs    1\n",
       "TCGA-06-5859-01Z-00-DX1.ab40e405-f25a-4fd2-95a2-ed86f8a2007f.svs    1\n",
       "Name: file_name, Length: 1705, dtype: int64"
      ]
     },
     "execution_count": 29,
     "metadata": {},
     "output_type": "execute_result"
    }
   ],
   "source": [
    "classification_df['file_name'].value_counts() # shows all file names are unique"
   ]
  },
  {
   "cell_type": "code",
   "execution_count": 30,
   "metadata": {},
   "outputs": [
    {
     "data": {
      "text/plain": [
       "9629b25b-4f43-44fa-b86c-ba0840d52acd    1\n",
       "9807332f-41e5-4c44-810c-dc6a2df27d97    1\n",
       "7694d08d-a5a7-4b66-ad21-5967d0cf91a8    1\n",
       "ed822b80-9777-44e3-9662-d1371247329e    1\n",
       "0d899e11-3c10-429d-9ad1-f55e84431ae3    1\n",
       "                                       ..\n",
       "6e31cd10-f59a-4f7f-91eb-973b3f712571    1\n",
       "635d4436-8d37-4411-bf97-b4c2cacf023a    1\n",
       "94f1f6dd-862f-4281-9aef-6098507c987d    1\n",
       "c06235d2-9a32-4b0c-8b26-e46d59161102    1\n",
       "ea24a21c-7939-44ca-80f7-9b0a1622d298    1\n",
       "Name: file_id, Length: 1705, dtype: int64"
      ]
     },
     "execution_count": 30,
     "metadata": {},
     "output_type": "execute_result"
    }
   ],
   "source": [
    "classification_df['file_id'].value_counts() # same with our file_ids"
   ]
  },
  {
   "cell_type": "markdown",
   "metadata": {},
   "source": [
    "## Basic Visualizations:"
   ]
  },
  {
   "cell_type": "code",
   "execution_count": 48,
   "metadata": {},
   "outputs": [
    {
     "data": {
      "text/plain": [
       "0.8309593996105588"
      ]
     },
     "execution_count": 48,
     "metadata": {},
     "output_type": "execute_result"
    }
   ],
   "source": [
    "(df['file_size'] / 1_000_000_000).mean()"
   ]
  },
  {
   "cell_type": "code",
   "execution_count": 54,
   "metadata": {},
   "outputs": [
    {
     "data": {
      "text/plain": [
       "<matplotlib.lines.Line2D at 0x1a37dbac50>"
      ]
     },
     "execution_count": 54,
     "metadata": {},
     "output_type": "execute_result"
    },
    {
     "data": {
      "image/png": "[encoded data removed]",
      "text/plain": [
       "<Figure size 432x288 with 1 Axes>"
      ]
     },
     "metadata": {
      "needs_background": "light"
     },
     "output_type": "display_data"
    }
   ],
   "source": [
    "# Image Sizes:\n",
    "ax = sns.distplot((df['file_size'] / 1_000_000_000), bins = 100, kde=False)\n",
    "plt.axvline((df['file_size'] / 1_000_000_000).mean(), color = 'orange')"
   ]
  },
  {
   "cell_type": "markdown",
   "metadata": {
    "heading_collapsed": true
   },
   "source": [
    "# Scrap Work"
   ]
  },
  {
   "cell_type": "code",
   "execution_count": 11,
   "metadata": {
    "hidden": true
   },
   "outputs": [
    {
     "data": {
      "text/plain": [
       "dict_keys(['state', 'updated_datetime', 'age_at_index', 'created_datetime', 'demographic_id', 'days_to_birth', 'year_of_death', 'submitter_id', 'ethnicity', 'gender', 'race', 'vital_status', 'year_of_birth'])"
      ]
     },
     "execution_count": 11,
     "metadata": {},
     "output_type": "execute_result"
    }
   ],
   "source": [
    "clinical_df['demographic'][0].keys()"
   ]
  },
  {
   "cell_type": "code",
   "execution_count": 27,
   "metadata": {
    "hidden": true,
    "scrolled": true
   },
   "outputs": [],
   "source": [
    "for key in clinical_df['demographic'][0].keys():\n",
    "    for i , value in enumerate(clinical_df['demographic']):\n",
    "        try:\n",
    "            clinical_df[f'demographic_{key}'] = value[key]\n",
    "        except:\n",
    "            clinical_df[f'demographic_{key}'] = np.NaN\n",
    "            print(f'Encountered Missing value at {key} index {i}')"
   ]
  },
  {
   "cell_type": "code",
   "execution_count": null,
   "metadata": {
    "hidden": true
   },
   "outputs": [],
   "source": []
  }
 ],
 "metadata": {
  "kernelspec": {
   "display_name": "Python 3",
   "language": "python",
   "name": "python3"
  },
  "language_info": {
   "codemirror_mode": {
    "name": "ipython",
    "version": 3
   },
   "file_extension": ".py",
   "mimetype": "text/x-python",
   "name": "python",
   "nbconvert_exporter": "python",
   "pygments_lexer": "ipython3",
   "version": "3.7.6"
  },
  "toc": {
   "base_numbering": 1,
   "nav_menu": {},
   "number_sections": true,
   "sideBar": true,
   "skip_h1_title": false,
   "title_cell": "Table of Contents",
   "title_sidebar": "Contents",
   "toc_cell": false,
   "toc_position": {},
   "toc_section_display": true,
   "toc_window_display": false
  },
  "varInspector": {
   "cols": {
    "lenName": 16,
    "lenType": 16,
    "lenVar": 40
   },
   "kernels_config": {
    "python": {
     "delete_cmd_postfix": "",
     "delete_cmd_prefix": "del ",
     "library": "var_list.py",
     "varRefreshCmd": "print(var_dic_list())"
    },
    "r": {
     "delete_cmd_postfix": ") ",
     "delete_cmd_prefix": "rm(",
     "library": "var_list.r",
     "varRefreshCmd": "cat(var_dic_list()) "
    }
   },
   "types_to_exclude": [
    "module",
    "function",
    "builtin_function_or_method",
    "instance",
    "_Feature"
   ],
   "window_display": false
  }
 },
 "nbformat": 4,
 "nbformat_minor": 4
}
