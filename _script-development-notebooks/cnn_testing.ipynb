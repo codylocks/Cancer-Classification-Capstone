{
 "cells": [
  {
   "cell_type": "code",
   "execution_count": 1,
   "metadata": {},
   "outputs": [],
   "source": [
    "import numpy as np\n",
    "import matplotlib.pyplot as plt\n",
    "import pandas as pd\n",
    "from tensorflow.keras.models import Sequential\n",
    "from tensorflow.keras.layers import Dense, Dropout, Flatten, Conv2D, MaxPooling2D\n",
    "from tensorflow.keras import utils\n",
    "from tensorflow.keras.preprocessing.image import load_img, img_to_array, array_to_img\n",
    "from sklearn.model_selection import train_test_split\n",
    "from sklearn.metrics import roc_auc_score"
   ]
  },
  {
   "cell_type": "code",
   "execution_count": 2,
   "metadata": {},
   "outputs": [],
   "source": [
    "# Here we need to set up our x and y\n",
    "# y_train = utils.to_categorical(y_train)\n",
    "# y_test = utils.to_categorical(y_test)\n",
    "\n",
    "X = np.load('./main_tile_array_array_upto_batch24.npy')\n",
    "y = pd.read_csv('./diagnosis_df_saved_upto_batch24.csv')"
   ]
  },
  {
   "cell_type": "code",
   "execution_count": 3,
   "metadata": {},
   "outputs": [],
   "source": [
    "# X"
   ]
  },
  {
   "cell_type": "code",
   "execution_count": 4,
   "metadata": {},
   "outputs": [
    {
     "data": {
      "text/plain": [
       "3600"
      ]
     },
     "execution_count": 4,
     "metadata": {},
     "output_type": "execute_result"
    }
   ],
   "source": [
    "len(X)"
   ]
  },
  {
   "cell_type": "code",
   "execution_count": 5,
   "metadata": {},
   "outputs": [
    {
     "data": {
      "text/plain": [
       "3600"
      ]
     },
     "execution_count": 5,
     "metadata": {},
     "output_type": "execute_result"
    }
   ],
   "source": [
    "len(y)"
   ]
  },
  {
   "cell_type": "code",
   "execution_count": 6,
   "metadata": {},
   "outputs": [],
   "source": [
    "y.drop(columns='diagnosis', inplace=True)\n"
   ]
  },
  {
   "cell_type": "code",
   "execution_count": 7,
   "metadata": {
    "scrolled": true
   },
   "outputs": [
    {
     "data": {
      "text/plain": [
       "Oligodendroglioma, NOS           0.416667\n",
       "Oligodendroglioma, anaplastic    0.277778\n",
       "Mixed glioma                     0.277778\n",
       "Astrocytoma, anaplastic          0.027778\n",
       "Name: Diagnosis, dtype: float64"
      ]
     },
     "execution_count": 7,
     "metadata": {},
     "output_type": "execute_result"
    }
   ],
   "source": [
    "y['Diagnosis'].value_counts(normalize=True)"
   ]
  },
  {
   "cell_type": "code",
   "execution_count": 8,
   "metadata": {},
   "outputs": [],
   "source": [
    "# y = (y['Diagnosis'] == 'Mixed glioma').astype(int)\n",
    "y['Diagnosis'] = y['Diagnosis'].map({\n",
    "    'Mixed glioma' : 0,\n",
    "    'Oligodendroglioma, NOS' : 1,\n",
    "    'Oligodendroglioma, anaplastic' : 2,\n",
    "    'Astrocytoma, anaplastic' : 3\n",
    "})\n",
    "\n",
    "# {'Oligodendroglioma, anaplastic' : 0,\n",
    "#            'Astrocytoma, anaplastic' : 1,\n",
    "#            'Mixed glioma' : 2,\n",
    "#            'Oligodendroglioma, NOS' : 3,\n",
    "#            'Astrocytoma, NOS' : 4\n",
    "#           }\n",
    "# y = y.to_numpy()"
   ]
  },
  {
   "cell_type": "code",
   "execution_count": 9,
   "metadata": {},
   "outputs": [],
   "source": [
    "y = [i for i in y['Diagnosis']]"
   ]
  },
  {
   "cell_type": "code",
   "execution_count": 10,
   "metadata": {},
   "outputs": [],
   "source": [
    "y = np.array(y)"
   ]
  },
  {
   "cell_type": "code",
   "execution_count": 11,
   "metadata": {},
   "outputs": [
    {
     "data": {
      "text/plain": [
       "array([2, 2, 2, ..., 1, 1, 1])"
      ]
     },
     "execution_count": 11,
     "metadata": {},
     "output_type": "execute_result"
    }
   ],
   "source": [
    "y"
   ]
  },
  {
   "cell_type": "code",
   "execution_count": 12,
   "metadata": {
    "scrolled": true
   },
   "outputs": [],
   "source": [
    "y = utils.to_categorical(y, 4)"
   ]
  },
  {
   "cell_type": "code",
   "execution_count": 13,
   "metadata": {},
   "outputs": [],
   "source": [
    "X_model, X_holdout, y_model, y_holdout = train_test_split(X, y, stratify = y)"
   ]
  },
  {
   "cell_type": "code",
   "execution_count": 14,
   "metadata": {},
   "outputs": [],
   "source": [
    "X_train, X_test, y_train, y_test = train_test_split(X_model, y_model, stratify = y_model)"
   ]
  },
  {
   "cell_type": "code",
   "execution_count": 15,
   "metadata": {},
   "outputs": [],
   "source": [
    "# Make sure each value is a float. (Otherwise, we get an error.)\n",
    "X_train = X_train.astype('float32')\n",
    "X_test = X_test.astype('float32')\n",
    "X_holdout = X_holdout.astype('float32')\n",
    "\n",
    "# The current range of X_train and X_test is 0 to 255.\n",
    "# The code below is equivalent to X_train = X_train / 255.\n",
    "# This scales each value to be between 0 and 1.\n",
    "X_train /= 255\n",
    "X_test /= 255\n",
    "X_holdout /= 255"
   ]
  },
  {
   "cell_type": "code",
   "execution_count": 16,
   "metadata": {},
   "outputs": [],
   "source": [
    "# y_test"
   ]
  },
  {
   "cell_type": "code",
   "execution_count": 17,
   "metadata": {},
   "outputs": [
    {
     "data": {
      "text/plain": [
       "(256, 256, 3)"
      ]
     },
     "execution_count": 17,
     "metadata": {},
     "output_type": "execute_result"
    }
   ],
   "source": [
    "X_train[1].shape"
   ]
  },
  {
   "cell_type": "code",
   "execution_count": 18,
   "metadata": {},
   "outputs": [
    {
     "name": "stdout",
     "output_type": "stream",
     "text": [
      "Model: \"sequential\"\n",
      "_________________________________________________________________\n",
      "Layer (type)                 Output Shape              Param #   \n",
      "=================================================================\n",
      "conv2d (Conv2D)              (None, 254, 254, 6)       168       \n",
      "_________________________________________________________________\n",
      "max_pooling2d (MaxPooling2D) (None, 127, 127, 6)       0         \n",
      "_________________________________________________________________\n",
      "conv2d_1 (Conv2D)            (None, 125, 125, 32)      1760      \n",
      "_________________________________________________________________\n",
      "max_pooling2d_1 (MaxPooling2 (None, 62, 62, 32)        0         \n",
      "_________________________________________________________________\n",
      "dropout (Dropout)            (None, 62, 62, 32)        0         \n",
      "_________________________________________________________________\n",
      "flatten (Flatten)            (None, 123008)            0         \n",
      "_________________________________________________________________\n",
      "dense (Dense)                (None, 128)               15745152  \n",
      "_________________________________________________________________\n",
      "dense_1 (Dense)              (None, 4)                 516       \n",
      "=================================================================\n",
      "Total params: 15,747,596\n",
      "Trainable params: 15,747,596\n",
      "Non-trainable params: 0\n",
      "_________________________________________________________________\n",
      "Epoch 1/10\n",
      "8/8 [==============================] - 65s 8s/step - loss: 6.4018 - accuracy: 0.3580 - val_loss: 4.6416 - val_accuracy: 0.4163\n",
      "Epoch 2/10\n",
      "8/8 [==============================] - 77s 10s/step - loss: 2.2193 - accuracy: 0.4785 - val_loss: 1.0214 - val_accuracy: 0.6696\n",
      "Epoch 3/10\n",
      "8/8 [==============================] - 72s 9s/step - loss: 0.8209 - accuracy: 0.6909 - val_loss: 0.6370 - val_accuracy: 0.7941\n",
      "Epoch 4/10\n",
      "8/8 [==============================] - 63s 8s/step - loss: 0.5544 - accuracy: 0.8099 - val_loss: 0.4967 - val_accuracy: 0.8563\n",
      "Epoch 5/10\n",
      "8/8 [==============================] - 61s 8s/step - loss: 0.4038 - accuracy: 0.8672 - val_loss: 0.3578 - val_accuracy: 0.8830\n",
      "Epoch 6/10\n",
      "8/8 [==============================] - 64s 8s/step - loss: 0.3049 - accuracy: 0.9052 - val_loss: 0.3051 - val_accuracy: 0.8948\n",
      "Epoch 7/10\n",
      "8/8 [==============================] - 77s 10s/step - loss: 0.2457 - accuracy: 0.9190 - val_loss: 0.2745 - val_accuracy: 0.9037\n",
      "Epoch 8/10\n",
      "8/8 [==============================] - 73s 9s/step - loss: 0.1855 - accuracy: 0.9422 - val_loss: 0.2666 - val_accuracy: 0.9052\n",
      "Epoch 9/10\n",
      "8/8 [==============================] - 73s 9s/step - loss: 0.1432 - accuracy: 0.9536 - val_loss: 0.2386 - val_accuracy: 0.9096\n",
      "Epoch 10/10\n",
      "8/8 [==============================] - 55s 7s/step - loss: 0.1023 - accuracy: 0.9738 - val_loss: 0.2477 - val_accuracy: 0.9170\n"
     ]
    }
   ],
   "source": [
    "cnn_model = Sequential()\n",
    "\n",
    "cnn_model.add(Conv2D(\n",
    "        filters = 6, # number of filters\n",
    "        kernel_size = (3,3), # height/width of filter\n",
    "        activation = 'relu',\n",
    "        input_shape = (256, 256, 3)))\n",
    "\n",
    "\n",
    "cnn_model.add(MaxPooling2D(pool_size=(2,2)))\n",
    "\n",
    "# cnn_model.add(Dropout(0.5))\n",
    "\n",
    "cnn_model.add(Conv2D(32,\n",
    "                     kernel_size=(3,3),\n",
    "                     activation= 'relu'\n",
    "                    ))\n",
    "\n",
    "cnn_model.add(MaxPooling2D(pool_size=(2,2)))\n",
    "\n",
    "cnn_model.add(Dropout(0.05))\n",
    "\n",
    "# cnn_model.add(Conv2D(32,\n",
    "#                      kernel_size=(3,3),\n",
    "#                      activation= 'relu'\n",
    "#                     ))\n",
    "\n",
    "# cnn_model.add(MaxPooling2D(pool_size=(2,2)))\n",
    "\n",
    "# cnn_model.add(Dropout(0.05))\n",
    "\n",
    "cnn_model.add(Flatten())\n",
    "\n",
    "cnn_model.add(Dense(128, activation='relu'))\n",
    "\n",
    "cnn_model.add(Dense(4, activation='softmax'))\n",
    "\n",
    "cnn_model.compile(loss='categorical_crossentropy',\n",
    "                  optimizer='adam',\n",
    "                  metrics=['accuracy'])\n",
    "cnn_model.summary()\n",
    "history = cnn_model.fit(X_train,\n",
    "                        y_train,\n",
    "                        batch_size=256,\n",
    "                        validation_data=(X_test, y_test),\n",
    "                        epochs=10,\n",
    "                        verbose=1)"
   ]
  },
  {
   "cell_type": "code",
   "execution_count": 19,
   "metadata": {},
   "outputs": [
    {
     "data": {
      "image/png": "[encoded data removed]",
      "text/plain": [
       "<Figure size 864x576 with 1 Axes>"
      ]
     },
     "metadata": {
      "needs_background": "light"
     },
     "output_type": "display_data"
    }
   ],
   "source": [
    "# Check out our train loss and test loss over epochs.\n",
    "train_loss = history.history['loss']\n",
    "test_loss = history.history['val_loss']\n",
    "\n",
    "# Set figure size.\n",
    "plt.figure(figsize=(12, 8))\n",
    "\n",
    "# Generate line plot of training, testing loss over epochs.\n",
    "plt.plot(train_loss, label='Training Loss', color='#185fad')\n",
    "plt.plot(test_loss, label='Testing Loss', color='orange')\n",
    "\n",
    "# Set title\n",
    "plt.title('Training and Testing Loss by Epoch', fontsize = 25)\n",
    "plt.xlabel('Epoch', fontsize = 18)\n",
    "plt.ylabel('Categorical Crossentropy', fontsize = 18)\n",
    "plt.xticks(np.arange(10), np.arange(10))\n",
    "\n",
    "plt.legend(fontsize = 18);\n",
    "\n",
    "plt.savefig('./loss_graph_white.png',transparent = False)"
   ]
  },
  {
   "cell_type": "code",
   "execution_count": 20,
   "metadata": {},
   "outputs": [
    {
     "name": "stdout",
     "output_type": "stream",
     "text": [
      "WARNING:tensorflow:From <ipython-input-20-7a1fc00e9acb>:1: Sequential.predict_classes (from tensorflow.python.keras.engine.sequential) is deprecated and will be removed after 2021-01-01.\n",
      "Instructions for updating:\n",
      "Please use instead:* `np.argmax(model.predict(x), axis=-1)`,   if your model does multi-class classification   (e.g. if it uses a `softmax` last-layer activation).* `(model.predict(x) > 0.5).astype(\"int32\")`,   if your model does binary classification   (e.g. if it uses a `sigmoid` last-layer activation).\n"
     ]
    }
   ],
   "source": [
    "ypreds = cnn_model.predict_classes(X_holdout)"
   ]
  },
  {
   "cell_type": "code",
   "execution_count": 21,
   "metadata": {},
   "outputs": [
    {
     "data": {
      "text/plain": [
       "array([1, 1, 0, 2, 1, 0, 0, 2, 1, 1, 0, 1, 0, 0, 2, 2, 1, 1, 2, 0, 1, 1,\n",
       "       1, 2, 1, 0, 2, 1, 2, 2, 1, 2, 1, 1, 0, 0, 1, 2, 2, 0, 1, 0, 1, 0,\n",
       "       2, 0, 1, 0, 0, 0, 1, 1, 2, 0, 0, 2, 0, 2, 1, 0, 2, 2, 2, 1, 2, 1,\n",
       "       0, 0, 0, 2, 1, 2, 2, 0, 2, 2, 1, 1, 2, 0, 2, 0, 2, 2, 1, 1, 0, 1,\n",
       "       1, 0, 1, 0, 0, 1, 0, 2, 1, 1, 1, 2, 0, 2, 0, 0, 2, 2, 0, 1, 2, 0,\n",
       "       0, 0, 1, 2, 2, 0, 0, 0, 0, 0, 1, 0, 1, 0, 0, 0, 0, 0, 0, 0, 0, 2,\n",
       "       1, 1, 0, 2, 0, 2, 2, 1, 1, 2, 1, 1, 1, 1, 1, 1, 0, 0, 1, 1, 1, 1,\n",
       "       2, 0, 2, 0, 0, 0, 1, 2, 1, 0, 0, 1, 0, 1, 0, 0, 2, 1, 1, 2, 1, 1,\n",
       "       2, 1, 2, 2, 1, 1, 0, 2, 0, 1, 1, 1, 2, 2, 0, 0, 0, 2, 0, 1, 1, 0,\n",
       "       1, 0, 0, 2, 2, 0, 1, 1, 1, 0, 1, 1, 1, 0, 0, 0, 2, 1, 0, 1, 2, 1,\n",
       "       0, 0, 2, 2, 0, 1, 1, 0, 2, 0, 0, 2, 1, 2, 2, 1, 0, 1, 0, 0, 1, 2,\n",
       "       1, 1, 2, 1, 0, 0, 1, 1, 0, 0, 1, 1, 2, 0, 1, 0, 1, 2, 0, 2, 2, 0,\n",
       "       1, 1, 1, 1, 0, 0, 1, 0, 1, 2, 1, 1, 1, 1, 2, 2, 2, 1, 2, 1, 0, 1,\n",
       "       2, 3, 0, 1, 1, 0, 2, 0, 1, 0, 0, 1, 0, 0, 2, 2, 0, 2, 2, 1, 0, 2,\n",
       "       2, 1, 2, 1, 0, 0, 1, 0, 0, 1, 0, 1, 0, 0, 1, 0, 2, 0, 2, 1, 0, 2,\n",
       "       1, 2, 0, 1, 0, 2, 1, 0, 0, 1, 0, 1, 1, 1, 1, 2, 0, 2, 0, 2, 2, 1,\n",
       "       1, 0, 0, 1, 2, 1, 0, 0, 1, 1, 1, 0, 2, 1, 1, 0, 0, 1, 1, 2, 1, 2,\n",
       "       1, 1, 2, 1, 1, 2, 0, 0, 0, 1, 0, 1, 2, 1, 1, 1, 0, 0, 2, 0, 1, 1,\n",
       "       1, 2, 1, 2, 1, 2, 1, 0, 1, 0, 2, 2, 2, 2, 1, 0, 0, 1, 1, 2, 2, 2,\n",
       "       1, 0, 1, 1, 2, 0, 1, 0, 0, 1, 1, 0, 0, 1, 2, 2, 2, 1, 0, 1, 2, 2,\n",
       "       1, 2, 2, 1, 1, 1, 1, 0, 1, 2, 0, 0, 0, 1, 2, 1, 2, 1, 1, 2, 0, 1,\n",
       "       0, 1, 1, 0, 2, 0, 1, 0, 1, 1, 1, 0, 0, 0, 2, 1, 2, 0, 2, 0, 1, 0,\n",
       "       1, 0, 1, 1, 2, 2, 2, 1, 1, 2, 0, 0, 1, 0, 2, 1, 0, 1, 1, 0, 2, 1,\n",
       "       1, 1, 2, 1, 1, 1, 1, 1, 2, 1, 2, 2, 2, 0, 0, 0, 1, 1, 2, 1, 1, 1,\n",
       "       1, 0, 2, 0, 1, 1, 1, 1, 1, 2, 0, 0, 2, 2, 1, 1, 2, 1, 1, 2, 3, 1,\n",
       "       1, 1, 1, 0, 2, 1, 0, 1, 0, 1, 0, 2, 2, 0, 1, 2, 1, 1, 2, 1, 1, 1,\n",
       "       1, 2, 0, 1, 1, 1, 0, 2, 2, 2, 1, 1, 0, 2, 1, 2, 1, 1, 1, 0, 0, 1,\n",
       "       2, 1, 1, 1, 2, 0, 2, 2, 0, 1, 0, 3, 2, 0, 1, 1, 0, 1, 2, 1, 0, 1,\n",
       "       0, 1, 2, 1, 2, 0, 1, 2, 2, 0, 1, 0, 0, 0, 0, 0, 1, 2, 1, 1, 2, 2,\n",
       "       0, 1, 1, 1, 0, 1, 0, 1, 2, 1, 0, 1, 1, 0, 1, 0, 2, 1, 1, 0, 0, 0,\n",
       "       1, 0, 2, 1, 1, 0, 1, 0, 1, 0, 1, 1, 0, 0, 2, 1, 2, 1, 0, 0, 2, 0,\n",
       "       2, 2, 2, 2, 1, 0, 0, 0, 1, 1, 1, 1, 0, 2, 2, 2, 2, 2, 1, 1, 1, 1,\n",
       "       1, 0, 1, 2, 1, 1, 1, 1, 1, 1, 2, 2, 0, 1, 1, 2, 0, 1, 0, 0, 2, 0,\n",
       "       0, 1, 1, 2, 2, 1, 0, 0, 2, 1, 0, 1, 0, 0, 1, 0, 0, 1, 1, 1, 2, 1,\n",
       "       2, 1, 2, 0, 0, 0, 2, 0, 2, 0, 1, 0, 2, 1, 2, 2, 0, 1, 0, 1, 0, 0,\n",
       "       0, 0, 2, 2, 0, 2, 1, 0, 1, 1, 1, 1, 0, 2, 1, 1, 0, 2, 1, 2, 1, 0,\n",
       "       2, 1, 1, 1, 1, 1, 2, 2, 1, 0, 0, 2, 0, 2, 2, 1, 2, 0, 0, 1, 1, 2,\n",
       "       2, 1, 1, 1, 2, 0, 0, 1, 0, 2, 1, 2, 0, 0, 0, 1, 2, 1, 0, 0, 2, 1,\n",
       "       1, 0, 1, 2, 0, 2, 0, 1, 1, 1, 1, 1, 0, 2, 0, 2, 0, 1, 1, 0, 0, 0,\n",
       "       0, 0, 1, 1, 0, 1, 2, 2, 2, 1, 0, 2, 2, 1, 1, 1, 1, 1, 1, 0, 1, 2,\n",
       "       2, 0, 1, 0, 1, 0, 1, 2, 0, 2, 0, 1, 1, 1, 1, 1, 0, 2, 1, 0])"
      ]
     },
     "execution_count": 21,
     "metadata": {},
     "output_type": "execute_result"
    }
   ],
   "source": [
    "ypreds"
   ]
  },
  {
   "cell_type": "code",
   "execution_count": 22,
   "metadata": {},
   "outputs": [],
   "source": [
    "y_holdout_true = np.argmax(y_holdout, axis=1, out=None)"
   ]
  },
  {
   "cell_type": "code",
   "execution_count": 23,
   "metadata": {},
   "outputs": [
    {
     "data": {
      "text/plain": [
       "array([1, 1, 0, 2, 1, 0, 0, 2, 1, 1, 0, 1, 0, 0, 2, 2, 1, 1, 2, 0, 1, 1,\n",
       "       1, 2, 1, 0, 2, 1, 0, 2, 1, 2, 1, 1, 2, 0, 1, 2, 2, 0, 1, 0, 1, 2,\n",
       "       2, 1, 1, 0, 0, 0, 1, 1, 2, 0, 0, 2, 1, 2, 1, 0, 2, 2, 2, 1, 2, 1,\n",
       "       0, 0, 0, 2, 1, 2, 2, 0, 2, 0, 1, 1, 2, 0, 2, 1, 2, 2, 1, 1, 0, 1,\n",
       "       1, 0, 1, 1, 2, 1, 2, 2, 1, 1, 2, 2, 2, 2, 0, 0, 2, 2, 0, 1, 2, 0,\n",
       "       0, 0, 1, 2, 2, 0, 0, 0, 0, 0, 1, 0, 1, 0, 0, 1, 0, 0, 0, 0, 3, 2,\n",
       "       1, 1, 0, 2, 0, 2, 2, 1, 1, 2, 1, 1, 1, 1, 1, 1, 0, 0, 1, 1, 1, 1,\n",
       "       2, 0, 2, 0, 0, 0, 1, 2, 1, 0, 0, 1, 0, 1, 0, 0, 2, 0, 1, 2, 1, 1,\n",
       "       2, 1, 2, 2, 1, 1, 0, 2, 0, 1, 1, 1, 2, 2, 0, 2, 0, 2, 0, 1, 1, 0,\n",
       "       0, 0, 0, 2, 2, 0, 0, 1, 1, 0, 1, 1, 1, 0, 3, 0, 2, 1, 0, 1, 2, 1,\n",
       "       0, 0, 2, 2, 0, 1, 1, 0, 2, 3, 0, 2, 1, 2, 2, 1, 0, 1, 0, 0, 1, 2,\n",
       "       1, 1, 2, 1, 0, 0, 1, 1, 0, 0, 1, 1, 2, 0, 1, 2, 1, 2, 2, 2, 2, 1,\n",
       "       1, 1, 1, 1, 0, 0, 1, 0, 1, 2, 1, 1, 1, 1, 2, 2, 2, 1, 2, 1, 0, 1,\n",
       "       2, 3, 0, 1, 1, 0, 2, 3, 1, 3, 0, 1, 0, 0, 2, 2, 0, 2, 2, 1, 0, 2,\n",
       "       2, 1, 2, 1, 0, 0, 1, 0, 0, 1, 0, 1, 0, 2, 1, 0, 2, 0, 2, 1, 1, 2,\n",
       "       1, 2, 0, 1, 2, 2, 1, 0, 3, 1, 2, 1, 1, 1, 1, 2, 0, 2, 0, 2, 2, 1,\n",
       "       1, 0, 0, 1, 2, 1, 0, 0, 1, 1, 1, 0, 2, 1, 1, 0, 0, 1, 1, 2, 1, 2,\n",
       "       1, 1, 2, 1, 1, 2, 0, 0, 2, 1, 1, 1, 2, 1, 1, 1, 0, 0, 2, 0, 1, 1,\n",
       "       1, 2, 1, 2, 1, 2, 1, 0, 1, 0, 2, 2, 2, 2, 1, 0, 0, 1, 1, 2, 2, 2,\n",
       "       1, 2, 1, 1, 2, 3, 1, 0, 0, 0, 1, 3, 0, 1, 2, 2, 2, 1, 0, 1, 3, 2,\n",
       "       1, 2, 2, 1, 1, 1, 1, 0, 1, 2, 0, 0, 0, 1, 2, 1, 2, 1, 1, 2, 0, 1,\n",
       "       0, 1, 1, 1, 3, 0, 1, 0, 1, 1, 1, 0, 2, 0, 2, 1, 2, 0, 0, 0, 1, 0,\n",
       "       1, 0, 1, 1, 2, 2, 2, 1, 1, 2, 2, 0, 1, 0, 2, 1, 0, 1, 1, 0, 2, 1,\n",
       "       1, 1, 2, 1, 1, 1, 1, 1, 2, 1, 2, 2, 2, 0, 0, 2, 1, 1, 2, 1, 1, 1,\n",
       "       1, 0, 2, 0, 1, 1, 1, 1, 1, 2, 0, 2, 2, 2, 1, 1, 2, 1, 1, 2, 3, 1,\n",
       "       0, 1, 1, 0, 2, 1, 2, 1, 0, 1, 3, 0, 2, 2, 1, 2, 1, 1, 2, 1, 1, 1,\n",
       "       1, 2, 0, 1, 1, 1, 0, 3, 2, 2, 1, 1, 2, 2, 1, 2, 1, 1, 1, 0, 2, 1,\n",
       "       2, 1, 1, 1, 2, 3, 2, 2, 0, 1, 0, 3, 2, 0, 1, 1, 1, 1, 2, 1, 0, 1,\n",
       "       0, 1, 2, 1, 2, 0, 1, 2, 2, 0, 1, 0, 0, 1, 0, 0, 1, 2, 1, 1, 2, 2,\n",
       "       0, 1, 1, 1, 0, 1, 0, 0, 2, 1, 0, 1, 1, 0, 1, 0, 2, 1, 1, 0, 0, 3,\n",
       "       1, 0, 2, 0, 1, 0, 1, 1, 1, 2, 1, 1, 3, 0, 2, 1, 3, 1, 0, 0, 2, 0,\n",
       "       2, 2, 2, 2, 1, 0, 0, 0, 1, 1, 1, 1, 0, 2, 2, 2, 2, 2, 1, 1, 1, 1,\n",
       "       1, 0, 1, 2, 1, 1, 1, 1, 1, 1, 2, 2, 0, 1, 1, 2, 0, 1, 0, 0, 2, 1,\n",
       "       0, 1, 1, 2, 0, 1, 0, 0, 2, 1, 0, 1, 0, 0, 1, 0, 0, 1, 1, 1, 2, 1,\n",
       "       2, 1, 2, 0, 0, 0, 2, 2, 2, 0, 1, 0, 2, 1, 2, 2, 0, 1, 0, 0, 0, 3,\n",
       "       3, 0, 2, 2, 0, 2, 1, 0, 1, 1, 1, 1, 0, 2, 1, 1, 0, 2, 1, 2, 1, 0,\n",
       "       2, 1, 1, 1, 1, 1, 2, 2, 1, 0, 0, 2, 0, 2, 2, 1, 2, 0, 0, 1, 1, 2,\n",
       "       2, 1, 1, 1, 2, 2, 0, 1, 0, 2, 1, 2, 3, 0, 3, 1, 2, 1, 0, 0, 2, 1,\n",
       "       1, 0, 1, 2, 0, 2, 0, 1, 1, 1, 1, 1, 0, 2, 0, 2, 3, 1, 1, 0, 0, 0,\n",
       "       0, 0, 1, 1, 0, 1, 2, 2, 2, 1, 0, 2, 2, 1, 1, 1, 1, 1, 1, 0, 1, 2,\n",
       "       2, 0, 1, 3, 1, 0, 1, 2, 0, 2, 0, 1, 1, 1, 1, 1, 0, 2, 1, 0])"
      ]
     },
     "execution_count": 23,
     "metadata": {},
     "output_type": "execute_result"
    }
   ],
   "source": [
    "y_holdout_true"
   ]
  },
  {
   "cell_type": "code",
   "execution_count": 24,
   "metadata": {},
   "outputs": [
    {
     "data": {
      "text/plain": [
       "900"
      ]
     },
     "execution_count": 24,
     "metadata": {},
     "output_type": "execute_result"
    }
   ],
   "source": [
    "len(ypreds)"
   ]
  },
  {
   "cell_type": "code",
   "execution_count": 25,
   "metadata": {},
   "outputs": [
    {
     "data": {
      "text/plain": [
       "900"
      ]
     },
     "execution_count": 25,
     "metadata": {},
     "output_type": "execute_result"
    }
   ],
   "source": [
    "len(y_holdout_true)"
   ]
  },
  {
   "cell_type": "code",
   "execution_count": 26,
   "metadata": {},
   "outputs": [
    {
     "data": {
      "text/plain": [
       "(900,)"
      ]
     },
     "execution_count": 26,
     "metadata": {},
     "output_type": "execute_result"
    }
   ],
   "source": [
    "ypreds.shape"
   ]
  },
  {
   "cell_type": "code",
   "execution_count": 27,
   "metadata": {},
   "outputs": [
    {
     "data": {
      "text/plain": [
       "(900,)"
      ]
     },
     "execution_count": 27,
     "metadata": {},
     "output_type": "execute_result"
    }
   ],
   "source": [
    "y_holdout_true.shape"
   ]
  },
  {
   "cell_type": "code",
   "execution_count": 28,
   "metadata": {},
   "outputs": [
    {
     "data": {
      "text/plain": [
       "numpy.ndarray"
      ]
     },
     "execution_count": 28,
     "metadata": {},
     "output_type": "execute_result"
    }
   ],
   "source": [
    "type(y_holdout_true)"
   ]
  },
  {
   "cell_type": "code",
   "execution_count": 29,
   "metadata": {},
   "outputs": [
    {
     "data": {
      "text/plain": [
       "numpy.ndarray"
      ]
     },
     "execution_count": 29,
     "metadata": {},
     "output_type": "execute_result"
    }
   ],
   "source": [
    "type(ypreds)"
   ]
  },
  {
   "cell_type": "code",
   "execution_count": 68,
   "metadata": {
    "scrolled": false
   },
   "outputs": [
    {
     "ename": "NameError",
     "evalue": "name 'y_holdout_test' is not defined",
     "output_type": "error",
     "traceback": [
      "\u001b[0;31m---------------------------------------------------------------------------\u001b[0m",
      "\u001b[0;31mNameError\u001b[0m                                 Traceback (most recent call last)",
      "\u001b[0;32m<ipython-input-68-8d19a6ed0a9d>\u001b[0m in \u001b[0;36m<module>\u001b[0;34m\u001b[0m\n\u001b[0;32m----> 1\u001b[0;31m roc_auc_score(y_holdout_test, \n\u001b[0m\u001b[1;32m      2\u001b[0m               \u001b[0mypreds_test\u001b[0m\u001b[0;34m,\u001b[0m\u001b[0;34m\u001b[0m\u001b[0;34m\u001b[0m\u001b[0m\n\u001b[1;32m      3\u001b[0m               \u001b[0maverage\u001b[0m\u001b[0;34m=\u001b[0m\u001b[0;34m'weighted'\u001b[0m\u001b[0;34m,\u001b[0m\u001b[0;34m\u001b[0m\u001b[0;34m\u001b[0m\u001b[0m\n\u001b[1;32m      4\u001b[0m               multi_class='ovo')\n",
      "\u001b[0;31mNameError\u001b[0m: name 'y_holdout_test' is not defined"
     ]
    }
   ],
   "source": [
    "roc_auc_score(y_holdout_test, \n",
    "              ypreds_test, \n",
    "              average='weighted', \n",
    "              multi_class='ovo')"
   ]
  },
  {
   "cell_type": "code",
   "execution_count": 30,
   "metadata": {},
   "outputs": [
    {
     "data": {
      "text/plain": [
       "array([[237,   8,   5,   0],\n",
       "       [ 13, 362,   0,   0],\n",
       "       [ 24,   1, 225,   0],\n",
       "       [ 18,   0,   4,   3]])"
      ]
     },
     "execution_count": 30,
     "metadata": {},
     "output_type": "execute_result"
    }
   ],
   "source": [
    "from sklearn.metrics import confusion_matrix\n",
    "save_confusion_matrix = confusion_matrix(y_holdout_true, ypreds)\n",
    "np.save('./confustion_matrix.npy', save_confusion_matrix)\n",
    "save_confusion_matrix"
   ]
  },
  {
   "cell_type": "code",
   "execution_count": null,
   "metadata": {},
   "outputs": [],
   "source": []
  }
 ],
 "metadata": {
  "kernelspec": {
   "display_name": "Python 3",
   "language": "python",
   "name": "python3"
  },
  "language_info": {
   "codemirror_mode": {
    "name": "ipython",
    "version": 3
   },
   "file_extension": ".py",
   "mimetype": "text/x-python",
   "name": "python",
   "nbconvert_exporter": "python",
   "pygments_lexer": "ipython3",
   "version": "3.7.6"
  },
  "toc": {
   "base_numbering": 1,
   "nav_menu": {},
   "number_sections": true,
   "sideBar": true,
   "skip_h1_title": false,
   "title_cell": "Table of Contents",
   "title_sidebar": "Contents",
   "toc_cell": false,
   "toc_position": {},
   "toc_section_display": true,
   "toc_window_display": false
  },
  "varInspector": {
   "cols": {
    "lenName": 16,
    "lenType": 16,
    "lenVar": 40
   },
   "kernels_config": {
    "python": {
     "delete_cmd_postfix": "",
     "delete_cmd_prefix": "del ",
     "library": "var_list.py",
     "varRefreshCmd": "print(var_dic_list())"
    },
    "r": {
     "delete_cmd_postfix": ") ",
     "delete_cmd_prefix": "rm(",
     "library": "var_list.r",
     "varRefreshCmd": "cat(var_dic_list()) "
    }
   },
   "types_to_exclude": [
    "module",
    "function",
    "builtin_function_or_method",
    "instance",
    "_Feature"
   ],
   "window_display": false
  }
 },
 "nbformat": 4,
 "nbformat_minor": 4
}
