{
 "cells": [
  {
   "cell_type": "code",
   "execution_count": 1,
   "metadata": {},
   "outputs": [],
   "source": [
    "import numpy as np\n",
    "import matplotlib.pyplot as plt\n",
    "import pandas as pd\n",
    "\n",
    "# For reproducibility\n",
    "np.random.seed(42)\n",
    "\n",
    "from tensorflow.keras.models import Sequential\n",
    "from tensorflow.keras.layers import Dense, Dropout, Flatten, Conv2D, MaxPooling2D\n",
    "from tensorflow.keras import utils\n",
    "from tensorflow.keras.preprocessing.image import load_img, img_to_array, array_to_img\n",
    "from sklearn.model_selection import train_test_split\n",
    "from sklearn.metrics import roc_auc_score"
   ]
  },
  {
   "cell_type": "code",
   "execution_count": 2,
   "metadata": {},
   "outputs": [],
   "source": [
    "# Here we need to set up our x and y\n",
    "# y_train = utils.to_categorical(y_train)\n",
    "# y_test = utils.to_categorical(y_test)\n",
    "\n",
    "X = np.load('./batch_0_main_tile_array_array_upto_batch{i}.npy')\n",
    "y = pd.read_csv('./batch_0_diagnosis_df_saved_upto_batch{i}.csv')"
   ]
  },
  {
   "cell_type": "code",
   "execution_count": 3,
   "metadata": {},
   "outputs": [
    {
     "data": {
      "text/plain": [
       "array([[[[ 44,  23,  66],\n",
       "         [ 43,  21,  63],\n",
       "         [ 43,  18,  61],\n",
       "         ...,\n",
       "         [105,  60, 123],\n",
       "         [102,  59, 118],\n",
       "         [ 95,  54, 108]],\n",
       "\n",
       "        [[ 38,  21,  65],\n",
       "         [ 39,  21,  63],\n",
       "         [ 42,  21,  62],\n",
       "         ...,\n",
       "         [ 95,  53, 118],\n",
       "         [ 95,  53, 114],\n",
       "         [ 93,  51, 105]],\n",
       "\n",
       "        [[ 34,  19,  66],\n",
       "         [ 37,  20,  65],\n",
       "         [ 41,  21,  66],\n",
       "         ...,\n",
       "         [ 75,  42, 103],\n",
       "         [ 80,  46, 105],\n",
       "         [ 85,  49, 105]],\n",
       "\n",
       "        ...,\n",
       "\n",
       "        [[201, 149, 185],\n",
       "         [198, 150, 187],\n",
       "         [177, 135, 179],\n",
       "         ...,\n",
       "         [ 96,  57, 120],\n",
       "         [ 96,  60, 113],\n",
       "         [ 84,  53, 106]],\n",
       "\n",
       "        [[200, 139, 175],\n",
       "         [193, 142, 177],\n",
       "         [174, 132, 172],\n",
       "         ...,\n",
       "         [114,  75, 138],\n",
       "         [119,  69, 134],\n",
       "         [118,  60, 129]],\n",
       "\n",
       "        [[176, 122, 173],\n",
       "         [169, 122, 174],\n",
       "         [157, 114, 171],\n",
       "         ...,\n",
       "         [131,  88, 138],\n",
       "         [134,  81, 133],\n",
       "         [132,  73, 127]]],\n",
       "\n",
       "\n",
       "       [[[ 79,  42,  94],\n",
       "         [ 78,  43,  97],\n",
       "         [ 79,  44, 102],\n",
       "         ...,\n",
       "         [ 88,  61, 133],\n",
       "         [112,  98, 120],\n",
       "         [149, 105, 128]],\n",
       "\n",
       "        [[ 87,  44, 100],\n",
       "         [ 88,  48, 101],\n",
       "         [ 89,  52, 102],\n",
       "         ...,\n",
       "         [ 79,  67, 133],\n",
       "         [ 84,  88, 132],\n",
       "         [141,  96, 133]],\n",
       "\n",
       "        [[ 99,  51, 109],\n",
       "         [103,  56, 110],\n",
       "         [102,  61, 107],\n",
       "         ...,\n",
       "         [ 86,  76, 136],\n",
       "         [ 66,  69, 136],\n",
       "         [119,  83, 138]],\n",
       "\n",
       "        ...,\n",
       "\n",
       "        [[242, 210, 218],\n",
       "         [211, 173, 204],\n",
       "         [167, 139, 193],\n",
       "         ...,\n",
       "         [174, 149, 193],\n",
       "         [179, 151, 179],\n",
       "         [178, 149, 177]],\n",
       "\n",
       "        [[217, 188, 211],\n",
       "         [188, 156, 197],\n",
       "         [155, 133, 189],\n",
       "         ...,\n",
       "         [182, 159, 199],\n",
       "         [179, 155, 194],\n",
       "         [180, 153, 190]],\n",
       "\n",
       "        [[193, 168, 200],\n",
       "         [169, 145, 188],\n",
       "         [152, 135, 183],\n",
       "         ...,\n",
       "         [193, 172, 206],\n",
       "         [185, 168, 214],\n",
       "         [188, 166, 209]]],\n",
       "\n",
       "\n",
       "       [[[118,  74, 131],\n",
       "         [114,  72, 129],\n",
       "         [115,  72, 129],\n",
       "         ...,\n",
       "         [145,  57, 110],\n",
       "         [128,  54, 106],\n",
       "         [111,  56, 105]],\n",
       "\n",
       "        [[128,  76, 130],\n",
       "         [124,  72, 128],\n",
       "         [121,  71, 125],\n",
       "         ...,\n",
       "         [131,  58, 112],\n",
       "         [115,  54, 105],\n",
       "         [101,  53,  99]],\n",
       "\n",
       "        [[137,  80, 131],\n",
       "         [134,  75, 128],\n",
       "         [128,  72, 125],\n",
       "         ...,\n",
       "         [114,  59, 112],\n",
       "         [105,  54, 106],\n",
       "         [100,  52, 103]],\n",
       "\n",
       "        ...,\n",
       "\n",
       "        [[131,  84, 132],\n",
       "         [148,  91, 137],\n",
       "         [150,  96, 144],\n",
       "         ...,\n",
       "         [220, 213, 225],\n",
       "         [224, 223, 228],\n",
       "         [230, 234, 233]],\n",
       "\n",
       "        [[157,  94, 128],\n",
       "         [163,  93, 128],\n",
       "         [152,  88, 130],\n",
       "         ...,\n",
       "         [203, 199, 219],\n",
       "         [214, 211, 224],\n",
       "         [229, 225, 231]],\n",
       "\n",
       "        [[169,  99, 136],\n",
       "         [165,  91, 129],\n",
       "         [149,  83, 128],\n",
       "         ...,\n",
       "         [183, 175, 205],\n",
       "         [195, 188, 211],\n",
       "         [210, 205, 220]]],\n",
       "\n",
       "\n",
       "       ...,\n",
       "\n",
       "\n",
       "       [[[237, 221, 233],\n",
       "         [227, 215, 229],\n",
       "         [220, 207, 225],\n",
       "         ...,\n",
       "         [167, 134, 174],\n",
       "         [166, 136, 174],\n",
       "         [151, 129, 192]],\n",
       "\n",
       "        [[235, 224, 235],\n",
       "         [230, 218, 231],\n",
       "         [225, 210, 228],\n",
       "         ...,\n",
       "         [171, 137, 183],\n",
       "         [179, 144, 187],\n",
       "         [154, 137, 204]],\n",
       "\n",
       "        [[232, 225, 237],\n",
       "         [232, 220, 233],\n",
       "         [231, 212, 230],\n",
       "         ...,\n",
       "         [166, 134, 186],\n",
       "         [175, 146, 195],\n",
       "         [141, 141, 203]],\n",
       "\n",
       "        ...,\n",
       "\n",
       "        [[ 43,  25,  81],\n",
       "         [ 33,  15,  71],\n",
       "         [ 32,  14,  63],\n",
       "         ...,\n",
       "         [210, 195, 224],\n",
       "         [232, 212, 227],\n",
       "         [211, 203, 223]],\n",
       "\n",
       "        [[ 56,  31,  87],\n",
       "         [ 38,  20,  76],\n",
       "         [ 30,  16,  67],\n",
       "         ...,\n",
       "         [178, 182, 215],\n",
       "         [230, 215, 227],\n",
       "         [213, 211, 230]],\n",
       "\n",
       "        [[ 81,  40,  95],\n",
       "         [ 55,  25,  82],\n",
       "         [ 38,  17,  70],\n",
       "         ...,\n",
       "         [159, 159, 202],\n",
       "         [226, 199, 221],\n",
       "         [223, 213, 230]]],\n",
       "\n",
       "\n",
       "       [[[ 86,  59, 114],\n",
       "         [111,  77, 136],\n",
       "         [120,  79, 140],\n",
       "         ...,\n",
       "         [185, 150, 180],\n",
       "         [180, 168, 182],\n",
       "         [213, 200, 220]],\n",
       "\n",
       "        [[ 73,  45,  92],\n",
       "         [ 89,  56, 111],\n",
       "         [ 97,  59, 120],\n",
       "         ...,\n",
       "         [186, 148, 178],\n",
       "         [175, 159, 182],\n",
       "         [217, 201, 224]],\n",
       "\n",
       "        [[ 63,  31,  77],\n",
       "         [ 67,  34,  82],\n",
       "         [ 75,  39,  90],\n",
       "         ...,\n",
       "         [192, 150, 187],\n",
       "         [182, 163, 193],\n",
       "         [222, 202, 223]],\n",
       "\n",
       "        ...,\n",
       "\n",
       "        [[139, 104, 161],\n",
       "         [152, 113, 176],\n",
       "         [154, 106, 164],\n",
       "         ...,\n",
       "         [ 86,  36,  92],\n",
       "         [ 94,  42,  98],\n",
       "         [134,  59, 117]],\n",
       "\n",
       "        [[143, 104, 157],\n",
       "         [169, 126, 177],\n",
       "         [177, 128, 176],\n",
       "         ...,\n",
       "         [ 87,  37,  93],\n",
       "         [ 95,  43, 101],\n",
       "         [138,  61, 123]],\n",
       "\n",
       "        [[156, 112, 159],\n",
       "         [194, 145, 183],\n",
       "         [208, 160, 194],\n",
       "         ...,\n",
       "         [ 85,  38,  96],\n",
       "         [ 94,  45, 104],\n",
       "         [135,  64, 128]]],\n",
       "\n",
       "\n",
       "       [[[146,  96, 152],\n",
       "         [139,  81, 145],\n",
       "         [118,  63, 125],\n",
       "         ...,\n",
       "         [164, 139, 185],\n",
       "         [177, 154, 189],\n",
       "         [164, 143, 187]],\n",
       "\n",
       "        [[133,  83, 138],\n",
       "         [130,  75, 131],\n",
       "         [112,  61, 119],\n",
       "         ...,\n",
       "         [134, 111, 158],\n",
       "         [150, 123, 166],\n",
       "         [164, 146, 189]],\n",
       "\n",
       "        [[114,  70, 126],\n",
       "         [116,  70, 120],\n",
       "         [101,  60, 117],\n",
       "         ...,\n",
       "         [126,  98, 146],\n",
       "         [144, 107, 159],\n",
       "         [156, 141, 188]],\n",
       "\n",
       "        ...,\n",
       "\n",
       "        [[111,  76, 130],\n",
       "         [131,  88, 138],\n",
       "         [153,  90, 137],\n",
       "         ...,\n",
       "         [128,  84, 141],\n",
       "         [116,  75, 122],\n",
       "         [103,  61, 119]],\n",
       "\n",
       "        [[113,  66, 112],\n",
       "         [123,  76, 132],\n",
       "         [140,  79, 132],\n",
       "         ...,\n",
       "         [123,  81, 143],\n",
       "         [112,  72, 124],\n",
       "         [114,  62, 120]],\n",
       "\n",
       "        [[119,  63, 107],\n",
       "         [115,  67, 122],\n",
       "         [125,  68, 126],\n",
       "         ...,\n",
       "         [121,  79, 147],\n",
       "         [110,  72, 129],\n",
       "         [123,  69, 127]]]], dtype=int16)"
      ]
     },
     "execution_count": 3,
     "metadata": {},
     "output_type": "execute_result"
    }
   ],
   "source": [
    "X"
   ]
  },
  {
   "cell_type": "code",
   "execution_count": 4,
   "metadata": {},
   "outputs": [
    {
     "data": {
      "text/plain": [
       "4800"
      ]
     },
     "execution_count": 4,
     "metadata": {},
     "output_type": "execute_result"
    }
   ],
   "source": [
    "len(X)"
   ]
  },
  {
   "cell_type": "code",
   "execution_count": 5,
   "metadata": {},
   "outputs": [
    {
     "data": {
      "text/plain": [
       "1200"
      ]
     },
     "execution_count": 5,
     "metadata": {},
     "output_type": "execute_result"
    }
   ],
   "source": [
    "len(y)"
   ]
  },
  {
   "cell_type": "code",
   "execution_count": 6,
   "metadata": {},
   "outputs": [],
   "source": [
    "y.drop(columns='diagnosis', inplace=True)\n"
   ]
  },
  {
   "cell_type": "code",
   "execution_count": 7,
   "metadata": {
    "scrolled": true
   },
   "outputs": [
    {
     "data": {
      "text/plain": [
       "Mixed glioma                     0.583333\n",
       "Oligodendroglioma, anaplastic    0.416667\n",
       "Name: Diagnosis, dtype: float64"
      ]
     },
     "execution_count": 7,
     "metadata": {},
     "output_type": "execute_result"
    }
   ],
   "source": [
    "y['Diagnosis'].value_counts(normalize=True)"
   ]
  },
  {
   "cell_type": "code",
   "execution_count": 8,
   "metadata": {},
   "outputs": [],
   "source": [
    "y = (y['Diagnosis'] == 'Mixed glioma').astype(int)"
   ]
  },
  {
   "cell_type": "code",
   "execution_count": 9,
   "metadata": {},
   "outputs": [
    {
     "data": {
      "text/plain": [
       "0       0\n",
       "1       0\n",
       "2       0\n",
       "3       0\n",
       "4       0\n",
       "       ..\n",
       "1195    0\n",
       "1196    0\n",
       "1197    0\n",
       "1198    0\n",
       "1199    0\n",
       "Name: Diagnosis, Length: 1200, dtype: int64"
      ]
     },
     "execution_count": 9,
     "metadata": {},
     "output_type": "execute_result"
    }
   ],
   "source": [
    "y"
   ]
  },
  {
   "cell_type": "code",
   "execution_count": 10,
   "metadata": {},
   "outputs": [],
   "source": [
    "y = y.to_numpy()"
   ]
  },
  {
   "cell_type": "code",
   "execution_count": 11,
   "metadata": {},
   "outputs": [
    {
     "data": {
      "text/plain": [
       "array([0, 0, 0, ..., 0, 0, 0])"
      ]
     },
     "execution_count": 11,
     "metadata": {},
     "output_type": "execute_result"
    }
   ],
   "source": [
    "y"
   ]
  },
  {
   "cell_type": "code",
   "execution_count": 12,
   "metadata": {},
   "outputs": [],
   "source": [
    "y = utils.to_categorical(y, 2)"
   ]
  },
  {
   "cell_type": "code",
   "execution_count": 13,
   "metadata": {},
   "outputs": [],
   "source": [
    "X_model, X_holdout, y_model, y_holdout = train_test_split(X[:1200], y)"
   ]
  },
  {
   "cell_type": "code",
   "execution_count": 14,
   "metadata": {},
   "outputs": [],
   "source": [
    "X_train, X_test, y_train, y_test = train_test_split(X_model, y_model)"
   ]
  },
  {
   "cell_type": "code",
   "execution_count": 15,
   "metadata": {},
   "outputs": [],
   "source": [
    "# Make sure each value is a float. (Otherwise, we get an error.)\n",
    "X_train = X_train.astype('float32')\n",
    "X_test = X_test.astype('float32')\n",
    "X_holdout = X_holdout.astype('float32')\n",
    "\n",
    "# The current range of X_train and X_test is 0 to 255.\n",
    "# The code below is equivalent to X_train = X_train / 255.\n",
    "# This scales each value to be between 0 and 1.\n",
    "X_train /= 255\n",
    "X_test /= 255\n",
    "X_holdout /= 255"
   ]
  },
  {
   "cell_type": "code",
   "execution_count": 16,
   "metadata": {},
   "outputs": [
    {
     "data": {
      "text/plain": [
       "array([[0., 1.],\n",
       "       [1., 0.],\n",
       "       [0., 1.],\n",
       "       [0., 1.],\n",
       "       [0., 1.],\n",
       "       [1., 0.],\n",
       "       [0., 1.],\n",
       "       [0., 1.],\n",
       "       [1., 0.],\n",
       "       [0., 1.],\n",
       "       [1., 0.],\n",
       "       [1., 0.],\n",
       "       [1., 0.],\n",
       "       [1., 0.],\n",
       "       [0., 1.],\n",
       "       [0., 1.],\n",
       "       [1., 0.],\n",
       "       [1., 0.],\n",
       "       [1., 0.],\n",
       "       [0., 1.],\n",
       "       [1., 0.],\n",
       "       [0., 1.],\n",
       "       [0., 1.],\n",
       "       [0., 1.],\n",
       "       [1., 0.],\n",
       "       [0., 1.],\n",
       "       [1., 0.],\n",
       "       [0., 1.],\n",
       "       [1., 0.],\n",
       "       [1., 0.],\n",
       "       [0., 1.],\n",
       "       [0., 1.],\n",
       "       [1., 0.],\n",
       "       [0., 1.],\n",
       "       [0., 1.],\n",
       "       [0., 1.],\n",
       "       [0., 1.],\n",
       "       [0., 1.],\n",
       "       [0., 1.],\n",
       "       [0., 1.],\n",
       "       [1., 0.],\n",
       "       [1., 0.],\n",
       "       [0., 1.],\n",
       "       [0., 1.],\n",
       "       [0., 1.],\n",
       "       [0., 1.],\n",
       "       [0., 1.],\n",
       "       [1., 0.],\n",
       "       [1., 0.],\n",
       "       [0., 1.],\n",
       "       [1., 0.],\n",
       "       [0., 1.],\n",
       "       [1., 0.],\n",
       "       [0., 1.],\n",
       "       [0., 1.],\n",
       "       [0., 1.],\n",
       "       [1., 0.],\n",
       "       [0., 1.],\n",
       "       [1., 0.],\n",
       "       [1., 0.],\n",
       "       [0., 1.],\n",
       "       [1., 0.],\n",
       "       [0., 1.],\n",
       "       [0., 1.],\n",
       "       [1., 0.],\n",
       "       [1., 0.],\n",
       "       [0., 1.],\n",
       "       [0., 1.],\n",
       "       [0., 1.],\n",
       "       [1., 0.],\n",
       "       [0., 1.],\n",
       "       [0., 1.],\n",
       "       [0., 1.],\n",
       "       [0., 1.],\n",
       "       [0., 1.],\n",
       "       [1., 0.],\n",
       "       [1., 0.],\n",
       "       [0., 1.],\n",
       "       [0., 1.],\n",
       "       [0., 1.],\n",
       "       [0., 1.],\n",
       "       [1., 0.],\n",
       "       [0., 1.],\n",
       "       [0., 1.],\n",
       "       [0., 1.],\n",
       "       [1., 0.],\n",
       "       [0., 1.],\n",
       "       [1., 0.],\n",
       "       [1., 0.],\n",
       "       [0., 1.],\n",
       "       [1., 0.],\n",
       "       [0., 1.],\n",
       "       [0., 1.],\n",
       "       [0., 1.],\n",
       "       [0., 1.],\n",
       "       [0., 1.],\n",
       "       [1., 0.],\n",
       "       [1., 0.],\n",
       "       [1., 0.],\n",
       "       [0., 1.],\n",
       "       [1., 0.],\n",
       "       [1., 0.],\n",
       "       [0., 1.],\n",
       "       [0., 1.],\n",
       "       [1., 0.],\n",
       "       [1., 0.],\n",
       "       [0., 1.],\n",
       "       [1., 0.],\n",
       "       [1., 0.],\n",
       "       [0., 1.],\n",
       "       [0., 1.],\n",
       "       [0., 1.],\n",
       "       [1., 0.],\n",
       "       [1., 0.],\n",
       "       [1., 0.],\n",
       "       [0., 1.],\n",
       "       [0., 1.],\n",
       "       [0., 1.],\n",
       "       [0., 1.],\n",
       "       [0., 1.],\n",
       "       [1., 0.],\n",
       "       [0., 1.],\n",
       "       [1., 0.],\n",
       "       [0., 1.],\n",
       "       [0., 1.],\n",
       "       [0., 1.],\n",
       "       [0., 1.],\n",
       "       [1., 0.],\n",
       "       [1., 0.],\n",
       "       [1., 0.],\n",
       "       [0., 1.],\n",
       "       [1., 0.],\n",
       "       [1., 0.],\n",
       "       [0., 1.],\n",
       "       [0., 1.],\n",
       "       [1., 0.],\n",
       "       [0., 1.],\n",
       "       [0., 1.],\n",
       "       [0., 1.],\n",
       "       [1., 0.],\n",
       "       [1., 0.],\n",
       "       [0., 1.],\n",
       "       [1., 0.],\n",
       "       [0., 1.],\n",
       "       [1., 0.],\n",
       "       [1., 0.],\n",
       "       [0., 1.],\n",
       "       [0., 1.],\n",
       "       [0., 1.],\n",
       "       [0., 1.],\n",
       "       [0., 1.],\n",
       "       [1., 0.],\n",
       "       [0., 1.],\n",
       "       [0., 1.],\n",
       "       [0., 1.],\n",
       "       [0., 1.],\n",
       "       [0., 1.],\n",
       "       [0., 1.],\n",
       "       [0., 1.],\n",
       "       [0., 1.],\n",
       "       [0., 1.],\n",
       "       [0., 1.],\n",
       "       [1., 0.],\n",
       "       [1., 0.],\n",
       "       [0., 1.],\n",
       "       [1., 0.],\n",
       "       [0., 1.],\n",
       "       [1., 0.],\n",
       "       [0., 1.],\n",
       "       [0., 1.],\n",
       "       [0., 1.],\n",
       "       [0., 1.],\n",
       "       [1., 0.],\n",
       "       [0., 1.],\n",
       "       [0., 1.],\n",
       "       [0., 1.],\n",
       "       [1., 0.],\n",
       "       [1., 0.],\n",
       "       [0., 1.],\n",
       "       [1., 0.],\n",
       "       [1., 0.],\n",
       "       [0., 1.],\n",
       "       [0., 1.],\n",
       "       [0., 1.],\n",
       "       [1., 0.],\n",
       "       [0., 1.],\n",
       "       [0., 1.],\n",
       "       [1., 0.],\n",
       "       [1., 0.],\n",
       "       [1., 0.],\n",
       "       [1., 0.],\n",
       "       [0., 1.],\n",
       "       [0., 1.],\n",
       "       [0., 1.],\n",
       "       [1., 0.],\n",
       "       [1., 0.],\n",
       "       [0., 1.],\n",
       "       [1., 0.],\n",
       "       [1., 0.],\n",
       "       [0., 1.],\n",
       "       [1., 0.],\n",
       "       [0., 1.],\n",
       "       [0., 1.],\n",
       "       [1., 0.],\n",
       "       [0., 1.],\n",
       "       [1., 0.],\n",
       "       [1., 0.],\n",
       "       [0., 1.],\n",
       "       [1., 0.],\n",
       "       [0., 1.],\n",
       "       [0., 1.],\n",
       "       [1., 0.],\n",
       "       [0., 1.],\n",
       "       [0., 1.],\n",
       "       [0., 1.],\n",
       "       [0., 1.],\n",
       "       [0., 1.],\n",
       "       [0., 1.],\n",
       "       [1., 0.],\n",
       "       [0., 1.],\n",
       "       [0., 1.],\n",
       "       [1., 0.],\n",
       "       [0., 1.],\n",
       "       [0., 1.],\n",
       "       [0., 1.]], dtype=float32)"
      ]
     },
     "execution_count": 16,
     "metadata": {},
     "output_type": "execute_result"
    }
   ],
   "source": [
    "y_test"
   ]
  },
  {
   "cell_type": "code",
   "execution_count": 17,
   "metadata": {},
   "outputs": [
    {
     "data": {
      "text/plain": [
       "(256, 256, 3)"
      ]
     },
     "execution_count": 17,
     "metadata": {},
     "output_type": "execute_result"
    }
   ],
   "source": [
    "X_train[1].shape"
   ]
  },
  {
   "cell_type": "code",
   "execution_count": 18,
   "metadata": {},
   "outputs": [
    {
     "name": "stdout",
     "output_type": "stream",
     "text": [
      "Model: \"sequential\"\n",
      "_________________________________________________________________\n",
      "Layer (type)                 Output Shape              Param #   \n",
      "=================================================================\n",
      "conv2d (Conv2D)              (None, 254, 254, 6)       168       \n",
      "_________________________________________________________________\n",
      "max_pooling2d (MaxPooling2D) (None, 127, 127, 6)       0         \n",
      "_________________________________________________________________\n",
      "conv2d_1 (Conv2D)            (None, 125, 125, 32)      1760      \n",
      "_________________________________________________________________\n",
      "max_pooling2d_1 (MaxPooling2 (None, 62, 62, 32)        0         \n",
      "_________________________________________________________________\n",
      "dropout (Dropout)            (None, 62, 62, 32)        0         \n",
      "_________________________________________________________________\n",
      "flatten (Flatten)            (None, 123008)            0         \n",
      "_________________________________________________________________\n",
      "dense (Dense)                (None, 128)               15745152  \n",
      "_________________________________________________________________\n",
      "dense_1 (Dense)              (None, 2)                 258       \n",
      "=================================================================\n",
      "Total params: 15,747,338\n",
      "Trainable params: 15,747,338\n",
      "Non-trainable params: 0\n",
      "_________________________________________________________________\n",
      "Epoch 1/10\n",
      "3/3 [==============================] - 13s 4s/step - loss: 9.2162 - accuracy: 0.4874 - val_loss: 13.5999 - val_accuracy: 0.6089\n",
      "Epoch 2/10\n",
      "3/3 [==============================] - 20s 7s/step - loss: 10.8022 - accuracy: 0.5763 - val_loss: 2.3903 - val_accuracy: 0.3911\n",
      "Epoch 3/10\n",
      "3/3 [==============================] - 16s 5s/step - loss: 3.6172 - accuracy: 0.4237 - val_loss: 0.7666 - val_accuracy: 0.4622\n",
      "Epoch 4/10\n",
      "3/3 [==============================] - 13s 4s/step - loss: 1.5238 - accuracy: 0.5926 - val_loss: 1.5852 - val_accuracy: 0.6089\n",
      "Epoch 5/10\n",
      "3/3 [==============================] - 16s 5s/step - loss: 0.9656 - accuracy: 0.6904 - val_loss: 0.8427 - val_accuracy: 0.4000\n",
      "Epoch 6/10\n",
      "3/3 [==============================] - 19s 6s/step - loss: 0.7861 - accuracy: 0.4637 - val_loss: 0.4127 - val_accuracy: 0.8800\n",
      "Epoch 7/10\n",
      "3/3 [==============================] - 15s 5s/step - loss: 0.3856 - accuracy: 0.8593 - val_loss: 0.4593 - val_accuracy: 0.7822\n",
      "Epoch 8/10\n",
      "3/3 [==============================] - 14s 5s/step - loss: 0.3728 - accuracy: 0.8281 - val_loss: 0.4147 - val_accuracy: 0.8178\n",
      "Epoch 9/10\n",
      "3/3 [==============================] - 14s 5s/step - loss: 0.3498 - accuracy: 0.8637 - val_loss: 0.3267 - val_accuracy: 0.8800\n",
      "Epoch 10/10\n",
      "3/3 [==============================] - 13s 4s/step - loss: 0.2770 - accuracy: 0.8933 - val_loss: 0.3152 - val_accuracy: 0.8756\n"
     ]
    },
    {
     "data": {
      "image/png": "[encoded data removed]",
      "text/plain": [
       "<Figure size 864x576 with 1 Axes>"
      ]
     },
     "metadata": {
      "needs_background": "light"
     },
     "output_type": "display_data"
    }
   ],
   "source": [
    "cnn_model = Sequential()\n",
    "\n",
    "cnn_model.add(Conv2D(\n",
    "        filters = 6, # number of filters\n",
    "        kernel_size = (3,3), # height/width of filter\n",
    "        activation = 'relu',\n",
    "        input_shape = (256, 256, 3)))\n",
    "\n",
    "\n",
    "cnn_model.add(MaxPooling2D(pool_size=(2,2)))\n",
    "\n",
    "cnn_model.add(Conv2D(32,\n",
    "                     kernel_size=(3,3),\n",
    "                     activation= 'relu'\n",
    "                    ))\n",
    "\n",
    "cnn_model.add(MaxPooling2D(pool_size=(2,2)))\n",
    "\n",
    "cnn_model.add(Dropout(0.05))\n",
    "\n",
    "# cnn_model.add(Conv2D(32,\n",
    "#                      kernel_size=(3,3),\n",
    "#                      activation= 'relu'\n",
    "#                     ))\n",
    "\n",
    "# cnn_model.add(MaxPooling2D(pool_size=(2,2)))\n",
    "\n",
    "# cnn_model.add(Dropout(0.05))\n",
    "\n",
    "cnn_model.add(Flatten())\n",
    "\n",
    "cnn_model.add(Dense(128, activation='relu'))\n",
    "\n",
    "cnn_model.add(Dense(2, activation='softmax'))\n",
    "\n",
    "cnn_model.compile(loss='categorical_crossentropy',\n",
    "                  optimizer='adam',\n",
    "                  metrics=['accuracy'])\n",
    "cnn_model.summary()\n",
    "history = cnn_model.fit(X_train,\n",
    "                        y_train,\n",
    "                        batch_size=256,\n",
    "                        validation_data=(X_test, y_test),\n",
    "                        epochs=10,\n",
    "                        verbose=1)\n",
    "\n",
    "\n",
    "\n",
    "# Check out our train loss and test loss over epochs.\n",
    "train_loss = history.history['loss']\n",
    "test_loss = history.history['val_loss']\n",
    "\n",
    "# Set figure size.\n",
    "plt.figure(figsize=(12, 8))\n",
    "\n",
    "# Generate line plot of training, testing loss over epochs.\n",
    "plt.plot(train_loss, label='Training Loss', color='#185fad')\n",
    "plt.plot(test_loss, label='Testing Loss', color='orange')\n",
    "\n",
    "# Set title\n",
    "plt.title('Training and Testing Loss by Epoch', fontsize = 25)\n",
    "plt.xlabel('Epoch', fontsize = 18)\n",
    "plt.ylabel('Categorical Crossentropy', fontsize = 18)\n",
    "plt.xticks(np.arange(10), np.arange(10))\n",
    "\n",
    "plt.legend(fontsize = 18);"
   ]
  },
  {
   "cell_type": "code",
   "execution_count": 19,
   "metadata": {},
   "outputs": [
    {
     "name": "stdout",
     "output_type": "stream",
     "text": [
      "WARNING:tensorflow:From <ipython-input-19-7a1fc00e9acb>:1: Sequential.predict_classes (from tensorflow.python.keras.engine.sequential) is deprecated and will be removed after 2021-01-01.\n",
      "Instructions for updating:\n",
      "Please use instead:* `np.argmax(model.predict(x), axis=-1)`,   if your model does multi-class classification   (e.g. if it uses a `softmax` last-layer activation).* `(model.predict(x) > 0.5).astype(\"int32\")`,   if your model does binary classification   (e.g. if it uses a `sigmoid` last-layer activation).\n"
     ]
    }
   ],
   "source": [
    "ypreds = cnn_model.predict_classes(X_holdout)"
   ]
  },
  {
   "cell_type": "code",
   "execution_count": 20,
   "metadata": {},
   "outputs": [
    {
     "data": {
      "text/plain": [
       "array([0, 1, 1, 0, 1, 0, 1, 1, 0, 1, 1, 1, 0, 1, 0, 1, 1, 1, 1, 0, 1, 0,\n",
       "       0, 1, 1, 1, 1, 1, 1, 1, 0, 1, 0, 1, 1, 1, 0, 1, 1, 1, 1, 1, 0, 1,\n",
       "       1, 1, 1, 1, 1, 0, 1, 0, 0, 1, 0, 1, 1, 0, 1, 1, 1, 1, 0, 0, 1, 1,\n",
       "       0, 0, 0, 0, 0, 1, 0, 0, 0, 0, 1, 1, 1, 1, 0, 1, 1, 1, 1, 1, 1, 1,\n",
       "       1, 1, 0, 0, 1, 1, 1, 0, 1, 1, 0, 1, 0, 1, 1, 0, 1, 1, 0, 1, 0, 1,\n",
       "       1, 1, 0, 1, 0, 1, 1, 1, 1, 1, 1, 1, 1, 1, 0, 0, 1, 1, 0, 0, 0, 0,\n",
       "       1, 0, 1, 1, 1, 0, 0, 1, 1, 0, 1, 0, 1, 0, 1, 0, 1, 0, 0, 1, 1, 1,\n",
       "       1, 0, 0, 1, 0, 1, 1, 1, 1, 1, 1, 1, 1, 1, 1, 1, 1, 1, 1, 0, 1, 0,\n",
       "       1, 0, 0, 1, 1, 1, 1, 1, 0, 1, 0, 1, 0, 1, 1, 0, 0, 1, 0, 1, 1, 1,\n",
       "       1, 1, 1, 1, 1, 1, 1, 0, 1, 1, 1, 0, 0, 1, 0, 1, 1, 1, 1, 0, 1, 1,\n",
       "       0, 1, 1, 1, 0, 1, 1, 0, 1, 0, 1, 1, 1, 1, 1, 1, 1, 1, 0, 1, 1, 0,\n",
       "       0, 1, 1, 1, 0, 1, 0, 1, 1, 1, 1, 1, 1, 1, 0, 1, 0, 0, 0, 1, 1, 0,\n",
       "       1, 1, 1, 1, 1, 0, 1, 1, 1, 1, 0, 1, 0, 0, 0, 1, 0, 1, 1, 1, 1, 1,\n",
       "       1, 1, 1, 1, 0, 0, 0, 0, 1, 1, 0, 1, 1, 0])"
      ]
     },
     "execution_count": 20,
     "metadata": {},
     "output_type": "execute_result"
    }
   ],
   "source": [
    "ypreds"
   ]
  },
  {
   "cell_type": "code",
   "execution_count": 21,
   "metadata": {},
   "outputs": [],
   "source": [
    "y_holdout_true = np.argmax(y_holdout, axis=1, out=None)"
   ]
  },
  {
   "cell_type": "code",
   "execution_count": 22,
   "metadata": {},
   "outputs": [
    {
     "data": {
      "text/plain": [
       "array([0, 1, 1, 0, 0, 0, 1, 1, 0, 1, 1, 0, 0, 1, 0, 1, 1, 1, 1, 0, 1, 0,\n",
       "       0, 1, 1, 0, 0, 1, 1, 1, 1, 1, 0, 1, 1, 1, 0, 0, 1, 0, 1, 1, 0, 1,\n",
       "       1, 1, 1, 0, 0, 0, 1, 0, 1, 1, 0, 1, 1, 0, 1, 1, 1, 1, 0, 0, 1, 1,\n",
       "       0, 0, 1, 0, 0, 1, 0, 0, 0, 0, 1, 0, 1, 1, 0, 0, 1, 1, 1, 1, 1, 1,\n",
       "       1, 0, 1, 0, 0, 1, 1, 0, 1, 1, 0, 1, 1, 1, 1, 0, 1, 1, 0, 1, 0, 1,\n",
       "       1, 1, 1, 1, 0, 1, 0, 1, 1, 1, 1, 1, 1, 1, 0, 0, 1, 1, 0, 0, 0, 0,\n",
       "       1, 0, 1, 0, 0, 0, 0, 1, 1, 0, 1, 0, 1, 1, 1, 0, 1, 0, 0, 1, 1, 0,\n",
       "       1, 0, 1, 0, 0, 1, 1, 1, 1, 0, 0, 1, 0, 1, 1, 0, 1, 1, 1, 0, 1, 1,\n",
       "       1, 0, 0, 1, 1, 1, 0, 1, 0, 1, 0, 1, 0, 1, 1, 0, 0, 1, 0, 1, 0, 1,\n",
       "       1, 0, 1, 1, 0, 1, 1, 0, 1, 1, 1, 0, 0, 1, 0, 1, 1, 0, 0, 0, 0, 1,\n",
       "       0, 1, 1, 1, 0, 1, 1, 0, 0, 0, 1, 1, 1, 0, 1, 1, 1, 1, 0, 1, 1, 0,\n",
       "       0, 1, 1, 1, 0, 1, 0, 1, 1, 1, 1, 1, 1, 1, 0, 1, 0, 0, 0, 1, 1, 0,\n",
       "       0, 1, 1, 1, 1, 0, 1, 1, 0, 1, 0, 0, 0, 0, 0, 1, 0, 1, 0, 1, 0, 1,\n",
       "       0, 1, 1, 1, 0, 0, 0, 0, 1, 1, 0, 1, 1, 0])"
      ]
     },
     "execution_count": 22,
     "metadata": {},
     "output_type": "execute_result"
    }
   ],
   "source": [
    "y_holdout_true"
   ]
  },
  {
   "cell_type": "code",
   "execution_count": 23,
   "metadata": {
    "scrolled": true
   },
   "outputs": [
    {
     "data": {
      "text/plain": [
       "0.83128078817734"
      ]
     },
     "execution_count": 23,
     "metadata": {},
     "output_type": "execute_result"
    }
   ],
   "source": [
    "roc_auc_score(y_holdout_true, ypreds)"
   ]
  },
  {
   "cell_type": "code",
   "execution_count": null,
   "metadata": {},
   "outputs": [],
   "source": [
    "numpy.argmax(a, axis=None, out=None)\n"
   ]
  }
 ],
 "metadata": {
  "kernelspec": {
   "display_name": "Python 3",
   "language": "python",
   "name": "python3"
  },
  "language_info": {
   "codemirror_mode": {
    "name": "ipython",
    "version": 3
   },
   "file_extension": ".py",
   "mimetype": "text/x-python",
   "name": "python",
   "nbconvert_exporter": "python",
   "pygments_lexer": "ipython3",
   "version": "3.7.6"
  },
  "toc": {
   "base_numbering": 1,
   "nav_menu": {},
   "number_sections": true,
   "sideBar": true,
   "skip_h1_title": false,
   "title_cell": "Table of Contents",
   "title_sidebar": "Contents",
   "toc_cell": false,
   "toc_position": {},
   "toc_section_display": true,
   "toc_window_display": false
  },
  "varInspector": {
   "cols": {
    "lenName": 16,
    "lenType": 16,
    "lenVar": 40
   },
   "kernels_config": {
    "python": {
     "delete_cmd_postfix": "",
     "delete_cmd_prefix": "del ",
     "library": "var_list.py",
     "varRefreshCmd": "print(var_dic_list())"
    },
    "r": {
     "delete_cmd_postfix": ") ",
     "delete_cmd_prefix": "rm(",
     "library": "var_list.r",
     "varRefreshCmd": "cat(var_dic_list()) "
    }
   },
   "types_to_exclude": [
    "module",
    "function",
    "builtin_function_or_method",
    "instance",
    "_Feature"
   ],
   "window_display": false
  }
 },
 "nbformat": 4,
 "nbformat_minor": 4
}
